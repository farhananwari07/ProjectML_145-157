{
  "nbformat": 4,
  "nbformat_minor": 0,
  "metadata": {
    "colab": {
      "name": "Model 5.ipynb",
      "provenance": [],
      "collapsed_sections": [],
      "include_colab_link": true
    },
    "kernelspec": {
      "name": "python3",
      "display_name": "Python 3"
    },
    "language_info": {
      "name": "python"
    }
  },
  "cells": [
    {
      "cell_type": "markdown",
      "metadata": {
        "id": "view-in-github",
        "colab_type": "text"
      },
      "source": [
        "<a href=\"https://colab.research.google.com/github/farhananwari07/ProjectML_145-157/blob/main/Model_5.ipynb\" target=\"_parent\"><img src=\"https://colab.research.google.com/assets/colab-badge.svg\" alt=\"Open In Colab\"/></a>"
      ]
    },
    {
      "cell_type": "code",
      "metadata": {
        "id": "yWpzjPwLWR1P"
      },
      "source": [
        "import os"
      ],
      "execution_count": 1,
      "outputs": []
    },
    {
      "cell_type": "code",
      "metadata": {
        "colab": {
          "base_uri": "https://localhost:8080/"
        },
        "id": "rSkQ0zqNEh2C",
        "outputId": "480b919b-029e-4565-dbf8-3540add451a3"
      },
      "source": [
        "from google.colab import drive\n",
        "drive.mount('/content/drive')"
      ],
      "execution_count": 2,
      "outputs": [
        {
          "output_type": "stream",
          "name": "stdout",
          "text": [
            "Mounted at /content/drive\n"
          ]
        }
      ]
    },
    {
      "cell_type": "code",
      "metadata": {
        "id": "uhfG4HZKUbtA"
      },
      "source": [
        "train_po = '/content/drive/MyDrive/Praktikum Kelompok_1/model_covid/train/Positif'\n",
        "train_ne = '/content/drive/MyDrive/Praktikum Kelompok_1/model_covid/train/Negatif'\n",
        "val_po = '/content/drive/MyDrive/Praktikum Kelompok_1/model_covid/validation/Positif'\n",
        "val_ne = '/content/drive/MyDrive/Praktikum Kelompok_1/model_covid/validation/Negatif'\n",
        "test_po = '/content/drive/MyDrive/Praktikum Kelompok_1/model_covid/test/Positif'\n",
        "test_ne = '/content/drive/MyDrive/Praktikum Kelompok_1/model_covid/test/Negatif'\n"
      ],
      "execution_count": 3,
      "outputs": []
    },
    {
      "cell_type": "code",
      "metadata": {
        "id": "TQzYa0woXzXv"
      },
      "source": [
        "dirtrain_po = os.listdir(train_po)\n",
        "dirtrain_ne = os.listdir (train_ne)\n",
        "dirval_po = os.listdir(val_po)\n",
        "dirval_ne = os.listdir(val_ne)\n",
        "dirtest_po = os.listdir(test_po)\n",
        "dirtest_ne = os.listdir(test_ne)\n"
      ],
      "execution_count": 10,
      "outputs": []
    },
    {
      "cell_type": "code",
      "metadata": {
        "colab": {
          "base_uri": "https://localhost:8080/"
        },
        "id": "J_oPANgOXBi4",
        "outputId": "48216d63-37c4-44db-90a6-035a28e0bbd7"
      },
      "source": [
        "print(\"data Negatif train : \" + str(len(dirtrain_ne)))\n",
        "print(\"data Negatif validation : \" + str(len(dirval_ne)))\n",
        "print(\"data Positif train : \" + str(len(dirtrain_po)))\n",
        "print(\"data Positif validation : \" + str(len(dirval_po)))"
      ],
      "execution_count": 11,
      "outputs": [
        {
          "output_type": "stream",
          "name": "stdout",
          "text": [
            "data Negatif train : 342\n",
            "data Negatif validation : 80\n",
            "data Positif train : 342\n",
            "data Positif validation : 80\n"
          ]
        }
      ]
    },
    {
      "cell_type": "code",
      "metadata": {
        "id": "Hr5aNpMHYlJA"
      },
      "source": [
        "import shutil\n",
        "\n",
        "files = os.listdir(val_po)\n",
        "\n",
        "# memindahkan 70% file\n",
        "for file in files[0:43]:\n",
        "  new_path = shutil.move(f\"{val_po}/{file}\", val_po)"
      ],
      "execution_count": null,
      "outputs": []
    },
    {
      "cell_type": "code",
      "metadata": {
        "id": "oHl4CbRfZiK6"
      },
      "source": [
        "import shutil\n",
        "\n",
        "files = os.listdir(val_ne)\n",
        "\n",
        "# memindahkan 70% file\n",
        "for file in files[0:5]:\n",
        "  new_path = shutil.move(f\"{val_ne}/{file}\", train_ne)"
      ],
      "execution_count": 8,
      "outputs": []
    },
    {
      "cell_type": "code",
      "metadata": {
        "id": "Xe7Id3y-Zwv-"
      },
      "source": [
        "import shutil\n",
        "\n",
        "files = os.listdir(val_po)\n",
        "\n",
        "# memindahkan 70% file\n",
        "for file in files[0:5]:\n",
        "  new_path = shutil.move(f\"{val_po}/{file}\", train_po)"
      ],
      "execution_count": 9,
      "outputs": []
    },
    {
      "cell_type": "code",
      "metadata": {
        "id": "P7ounow-aBZr"
      },
      "source": [
        "import shutil\n",
        "\n",
        "files = os.listdir(test_ne)\n",
        "\n",
        "# memindahkan 70% file\n",
        "for file in files[0:39]:\n",
        "  new_path = shutil.move(f\"{test_ne}/{file}\", train_ne)"
      ],
      "execution_count": null,
      "outputs": []
    },
    {
      "cell_type": "code",
      "metadata": {
        "id": "eCH_WoKxeyv_"
      },
      "source": [
        "from keras.preprocessing.image import ImageDataGenerator\n",
        "augs_gen = ImageDataGenerator(\n",
        "    rescale=1./255\n",
        ")  "
      ],
      "execution_count": 6,
      "outputs": []
    },
    {
      "cell_type": "code",
      "metadata": {
        "colab": {
          "base_uri": "https://localhost:8080/"
        },
        "id": "wIkFW8Kue2X8",
        "outputId": "93a16407-23fe-4123-8bfc-e34e535490d1"
      },
      "source": [
        "train_dir = '/content/drive/MyDrive/Praktikum Kelompok_1/model_covid/train'\n",
        "train_gen = augs_gen.flow_from_directory(\n",
        "    train_dir,\n",
        "    target_size = (120,120),\n",
        "    batch_size=32,\n",
        "    color_mode='rgb',\n",
        "    class_mode = 'categorical',\n",
        "    shuffle = False\n",
        ")"
      ],
      "execution_count": null,
      "outputs": [
        {
          "output_type": "stream",
          "name": "stdout",
          "text": [
            "Found 674 images belonging to 2 classes.\n"
          ]
        }
      ]
    },
    {
      "cell_type": "code",
      "metadata": {
        "colab": {
          "base_uri": "https://localhost:8080/"
        },
        "id": "PueawySrfS79",
        "outputId": "383fbc81-693d-4578-afd7-a5b2a8168470"
      },
      "source": [
        "val_dir ='/content/drive/MyDrive/Praktikum Kelompok_1/model_covid/validation'\n",
        "val_gen = augs_gen.flow_from_directory(\n",
        "    val_dir,\n",
        "    target_size=(120,120),\n",
        "    batch_size=32,\n",
        "    color_mode='rgb',\n",
        "    class_mode='categorical',\n",
        "    shuffle = False\n",
        ")"
      ],
      "execution_count": null,
      "outputs": [
        {
          "output_type": "stream",
          "name": "stdout",
          "text": [
            "Found 170 images belonging to 2 classes.\n"
          ]
        }
      ]
    },
    {
      "cell_type": "code",
      "metadata": {
        "id": "l9egHbRlGTox"
      },
      "source": [
        "from tensorflow.keras.models import Sequential\n",
        "from tensorflow.keras.layers import InputLayer, Dense, Conv2D, MaxPool2D, Flatten, Dropout, GlobalMaxPool2D, AveragePooling2D, GlobalAveragePooling2D,BatchNormalization, Activation"
      ],
      "execution_count": null,
      "outputs": []
    },
    {
      "cell_type": "code",
      "metadata": {
        "id": "oLJWsZM7EnYE"
      },
      "source": [
        "model = Sequential()\n",
        "\n",
        "model.add(InputLayer(input_shape=[120,120,3]))\n",
        "model.add(BatchNormalization())\n",
        "model.add(Conv2D(filters=128, kernel_size=3, strides=5, padding='same', activation='relu'))\n",
        "model.add(BatchNormalization())\n",
        "model.add(MaxPool2D(pool_size=2, padding='same'))\n",
        "model.add(Dropout(rate=0.5))\n",
        "model.add(Conv2D(filters=64, kernel_size=3, strides=5, padding='same', activation='relu'))\n",
        "model.add(BatchNormalization())\n",
        "model.add(MaxPool2D(pool_size=2, padding='same'))\n",
        "model.add(Dropout(rate=0.4))\n",
        "model.add(Conv2D(filters=32, kernel_size=3, strides=5, padding='same', activation='relu'))\n",
        "model.add(BatchNormalization())\n",
        "model.add(MaxPool2D(pool_size=2, padding='same'))\n",
        "model.add(Dropout(rate=0.4))\n",
        "\n",
        "model.add(GlobalMaxPool2D())\n",
        "model.add(Flatten())\n",
        "\n",
        "# Fully Connected Layer\n",
        "model.add(Dense(128, activation='relu'))\n",
        "model.add(Dense(64, activation='relu'))\n",
        "model.add(Dense(32, activation='relu'))\n",
        "model.add(Dense(2, activation='sigmoid'))\n",
        "\n"
      ],
      "execution_count": null,
      "outputs": []
    },
    {
      "cell_type": "code",
      "metadata": {
        "colab": {
          "base_uri": "https://localhost:8080/"
        },
        "id": "Bgh7IPESINcV",
        "outputId": "0bc58168-c01e-47f7-d984-67437d3ed14b"
      },
      "source": [
        "model.summary()"
      ],
      "execution_count": null,
      "outputs": [
        {
          "output_type": "stream",
          "name": "stdout",
          "text": [
            "Model: \"sequential\"\n",
            "_________________________________________________________________\n",
            " Layer (type)                Output Shape              Param #   \n",
            "=================================================================\n",
            " batch_normalization (BatchN  (None, 120, 120, 3)      12        \n",
            " ormalization)                                                   \n",
            "                                                                 \n",
            " conv2d (Conv2D)             (None, 24, 24, 128)       3584      \n",
            "                                                                 \n",
            " batch_normalization_1 (Batc  (None, 24, 24, 128)      512       \n",
            " hNormalization)                                                 \n",
            "                                                                 \n",
            " max_pooling2d (MaxPooling2D  (None, 12, 12, 128)      0         \n",
            " )                                                               \n",
            "                                                                 \n",
            " dropout (Dropout)           (None, 12, 12, 128)       0         \n",
            "                                                                 \n",
            " conv2d_1 (Conv2D)           (None, 3, 3, 64)          73792     \n",
            "                                                                 \n",
            " batch_normalization_2 (Batc  (None, 3, 3, 64)         256       \n",
            " hNormalization)                                                 \n",
            "                                                                 \n",
            " max_pooling2d_1 (MaxPooling  (None, 2, 2, 64)         0         \n",
            " 2D)                                                             \n",
            "                                                                 \n",
            " dropout_1 (Dropout)         (None, 2, 2, 64)          0         \n",
            "                                                                 \n",
            " conv2d_2 (Conv2D)           (None, 1, 1, 32)          18464     \n",
            "                                                                 \n",
            " batch_normalization_3 (Batc  (None, 1, 1, 32)         128       \n",
            " hNormalization)                                                 \n",
            "                                                                 \n",
            " max_pooling2d_2 (MaxPooling  (None, 1, 1, 32)         0         \n",
            " 2D)                                                             \n",
            "                                                                 \n",
            " dropout_2 (Dropout)         (None, 1, 1, 32)          0         \n",
            "                                                                 \n",
            " global_max_pooling2d (Globa  (None, 32)               0         \n",
            " lMaxPooling2D)                                                  \n",
            "                                                                 \n",
            " flatten (Flatten)           (None, 32)                0         \n",
            "                                                                 \n",
            " dense (Dense)               (None, 128)               4224      \n",
            "                                                                 \n",
            " dense_1 (Dense)             (None, 64)                8256      \n",
            "                                                                 \n",
            " dense_2 (Dense)             (None, 32)                2080      \n",
            "                                                                 \n",
            " dense_3 (Dense)             (None, 2)                 66        \n",
            "                                                                 \n",
            "=================================================================\n",
            "Total params: 111,374\n",
            "Trainable params: 110,920\n",
            "Non-trainable params: 454\n",
            "_________________________________________________________________\n"
          ]
        }
      ]
    },
    {
      "cell_type": "code",
      "metadata": {
        "colab": {
          "base_uri": "https://localhost:8080/"
        },
        "id": "2pu3YZP3GVvI",
        "outputId": "1c528a32-35da-4b7c-a146-b710135e0e64"
      },
      "source": [
        "from tensorflow.keras.optimizers import Adam\n",
        "\n",
        "# Compile model\n",
        "model.compile(loss='binary_crossentropy',\n",
        "              optimizer=Adam(lr=0.001, decay = 0.001/32),\n",
        "              metrics=['acc'])"
      ],
      "execution_count": null,
      "outputs": [
        {
          "output_type": "stream",
          "name": "stderr",
          "text": [
            "/usr/local/lib/python3.7/dist-packages/keras/optimizer_v2/adam.py:105: UserWarning: The `lr` argument is deprecated, use `learning_rate` instead.\n",
            "  super(Adam, self).__init__(name, **kwargs)\n"
          ]
        }
      ]
    },
    {
      "cell_type": "code",
      "metadata": {
        "colab": {
          "base_uri": "https://localhost:8080/"
        },
        "id": "CYhYJreLGbbv",
        "outputId": "e654e603-0497-46a1-e3d0-44d3200c79c6"
      },
      "source": [
        "H = model.fit(train_gen, batch_size=32, epochs=100, validation_data=(val_gen))"
      ],
      "execution_count": null,
      "outputs": [
        {
          "output_type": "stream",
          "name": "stdout",
          "text": [
            "Epoch 1/100\n",
            "22/22 [==============================] - 75s 3s/step - loss: 0.7047 - acc: 0.4941 - val_loss: 0.6946 - val_acc: 0.5000\n",
            "Epoch 2/100\n",
            "22/22 [==============================] - 75s 3s/step - loss: 0.6983 - acc: 0.5000 - val_loss: 0.6937 - val_acc: 0.5000\n",
            "Epoch 3/100\n",
            "22/22 [==============================] - 75s 3s/step - loss: 0.6992 - acc: 0.5059 - val_loss: 0.6930 - val_acc: 0.5000\n",
            "Epoch 4/100\n",
            "22/22 [==============================] - 75s 3s/step - loss: 0.6972 - acc: 0.4763 - val_loss: 0.6929 - val_acc: 0.5000\n",
            "Epoch 5/100\n",
            "22/22 [==============================] - 75s 3s/step - loss: 0.6952 - acc: 0.5015 - val_loss: 0.6924 - val_acc: 0.5000\n",
            "Epoch 6/100\n",
            "22/22 [==============================] - 75s 3s/step - loss: 0.6947 - acc: 0.5119 - val_loss: 0.6917 - val_acc: 0.5235\n",
            "Epoch 7/100\n",
            "22/22 [==============================] - 75s 3s/step - loss: 0.6971 - acc: 0.4733 - val_loss: 0.6913 - val_acc: 0.5353\n",
            "Epoch 8/100\n",
            "22/22 [==============================] - 75s 3s/step - loss: 0.6946 - acc: 0.4955 - val_loss: 0.6929 - val_acc: 0.5176\n",
            "Epoch 9/100\n",
            "22/22 [==============================] - 75s 3s/step - loss: 0.6965 - acc: 0.4926 - val_loss: 0.6926 - val_acc: 0.5412\n",
            "Epoch 10/100\n",
            "22/22 [==============================] - 75s 3s/step - loss: 0.6964 - acc: 0.4822 - val_loss: 0.6928 - val_acc: 0.5000\n",
            "Epoch 11/100\n",
            "22/22 [==============================] - 75s 3s/step - loss: 0.6943 - acc: 0.5059 - val_loss: 0.6927 - val_acc: 0.4941\n",
            "Epoch 12/100\n",
            "22/22 [==============================] - 76s 3s/step - loss: 0.6943 - acc: 0.4881 - val_loss: 0.6920 - val_acc: 0.5706\n",
            "Epoch 13/100\n",
            "22/22 [==============================] - 76s 3s/step - loss: 0.6928 - acc: 0.5089 - val_loss: 0.6956 - val_acc: 0.5059\n",
            "Epoch 14/100\n",
            "22/22 [==============================] - 75s 3s/step - loss: 0.6925 - acc: 0.5015 - val_loss: 0.6984 - val_acc: 0.4882\n",
            "Epoch 15/100\n",
            "22/22 [==============================] - 78s 4s/step - loss: 0.7027 - acc: 0.4837 - val_loss: 0.7059 - val_acc: 0.4765\n",
            "Epoch 16/100\n",
            "22/22 [==============================] - 78s 4s/step - loss: 0.6996 - acc: 0.4970 - val_loss: 0.6974 - val_acc: 0.5059\n",
            "Epoch 17/100\n",
            "22/22 [==============================] - 77s 4s/step - loss: 0.6969 - acc: 0.4718 - val_loss: 0.6934 - val_acc: 0.5118\n",
            "Epoch 18/100\n",
            "22/22 [==============================] - 79s 4s/step - loss: 0.6924 - acc: 0.5045 - val_loss: 0.6951 - val_acc: 0.5000\n",
            "Epoch 19/100\n",
            "22/22 [==============================] - 77s 4s/step - loss: 0.6900 - acc: 0.5148 - val_loss: 0.6954 - val_acc: 0.5294\n",
            "Epoch 20/100\n",
            "22/22 [==============================] - 77s 4s/step - loss: 0.6944 - acc: 0.5059 - val_loss: 0.6993 - val_acc: 0.5176\n",
            "Epoch 21/100\n",
            "22/22 [==============================] - 83s 4s/step - loss: 0.6970 - acc: 0.4970 - val_loss: 0.7119 - val_acc: 0.5059\n",
            "Epoch 22/100\n",
            "22/22 [==============================] - 76s 3s/step - loss: 0.6885 - acc: 0.5312 - val_loss: 0.7033 - val_acc: 0.5000\n",
            "Epoch 23/100\n",
            "22/22 [==============================] - 75s 3s/step - loss: 0.6888 - acc: 0.5193 - val_loss: 0.7119 - val_acc: 0.4529\n",
            "Epoch 24/100\n",
            "22/22 [==============================] - 75s 3s/step - loss: 0.6922 - acc: 0.5089 - val_loss: 0.7154 - val_acc: 0.5000\n",
            "Epoch 25/100\n",
            "22/22 [==============================] - 75s 3s/step - loss: 0.6978 - acc: 0.5000 - val_loss: 0.7002 - val_acc: 0.5176\n",
            "Epoch 26/100\n",
            "22/22 [==============================] - 76s 3s/step - loss: 0.6842 - acc: 0.5282 - val_loss: 0.7008 - val_acc: 0.5882\n",
            "Epoch 27/100\n",
            "22/22 [==============================] - 75s 3s/step - loss: 0.6858 - acc: 0.5504 - val_loss: 0.7046 - val_acc: 0.4647\n",
            "Epoch 28/100\n",
            "22/22 [==============================] - 75s 3s/step - loss: 0.6862 - acc: 0.5415 - val_loss: 0.7055 - val_acc: 0.4941\n",
            "Epoch 29/100\n",
            "22/22 [==============================] - 76s 4s/step - loss: 0.6892 - acc: 0.5223 - val_loss: 0.7104 - val_acc: 0.5118\n",
            "Epoch 30/100\n",
            "22/22 [==============================] - 75s 3s/step - loss: 0.6829 - acc: 0.5356 - val_loss: 0.7016 - val_acc: 0.5529\n",
            "Epoch 31/100\n",
            "22/22 [==============================] - 77s 4s/step - loss: 0.6902 - acc: 0.5282 - val_loss: 0.7235 - val_acc: 0.5176\n",
            "Epoch 32/100\n",
            "22/22 [==============================] - 77s 4s/step - loss: 0.6672 - acc: 0.5875 - val_loss: 0.7290 - val_acc: 0.4647\n",
            "Epoch 33/100\n",
            "22/22 [==============================] - 77s 4s/step - loss: 0.7040 - acc: 0.5490 - val_loss: 0.7243 - val_acc: 0.4529\n",
            "Epoch 34/100\n",
            "22/22 [==============================] - 79s 4s/step - loss: 0.6608 - acc: 0.6068 - val_loss: 0.7109 - val_acc: 0.4941\n",
            "Epoch 35/100\n",
            "22/22 [==============================] - 75s 3s/step - loss: 0.6632 - acc: 0.6068 - val_loss: 0.7181 - val_acc: 0.4412\n",
            "Epoch 36/100\n",
            "22/22 [==============================] - 75s 3s/step - loss: 0.6738 - acc: 0.6083 - val_loss: 0.7317 - val_acc: 0.5000\n",
            "Epoch 37/100\n",
            "22/22 [==============================] - 75s 3s/step - loss: 0.6742 - acc: 0.5757 - val_loss: 0.7256 - val_acc: 0.5118\n",
            "Epoch 38/100\n",
            "22/22 [==============================] - 76s 3s/step - loss: 0.6485 - acc: 0.6454 - val_loss: 0.7366 - val_acc: 0.5000\n",
            "Epoch 39/100\n",
            "22/22 [==============================] - 75s 3s/step - loss: 0.6425 - acc: 0.6246 - val_loss: 0.7920 - val_acc: 0.5118\n",
            "Epoch 40/100\n",
            "22/22 [==============================] - 75s 4s/step - loss: 0.6344 - acc: 0.6469 - val_loss: 0.7138 - val_acc: 0.5588\n",
            "Epoch 41/100\n",
            "22/22 [==============================] - 75s 3s/step - loss: 0.6334 - acc: 0.6439 - val_loss: 0.7054 - val_acc: 0.5412\n",
            "Epoch 42/100\n",
            "22/22 [==============================] - 75s 3s/step - loss: 0.5892 - acc: 0.7151 - val_loss: 0.7166 - val_acc: 0.5471\n",
            "Epoch 43/100\n",
            "22/22 [==============================] - 75s 3s/step - loss: 0.6089 - acc: 0.6513 - val_loss: 0.7359 - val_acc: 0.5412\n",
            "Epoch 44/100\n",
            "22/22 [==============================] - 75s 3s/step - loss: 0.5985 - acc: 0.7196 - val_loss: 0.7313 - val_acc: 0.5412\n",
            "Epoch 45/100\n",
            "22/22 [==============================] - 75s 3s/step - loss: 0.5915 - acc: 0.6795 - val_loss: 0.8475 - val_acc: 0.4706\n",
            "Epoch 46/100\n",
            "22/22 [==============================] - 75s 3s/step - loss: 0.5834 - acc: 0.7107 - val_loss: 0.7470 - val_acc: 0.4882\n",
            "Epoch 47/100\n",
            "22/22 [==============================] - 75s 3s/step - loss: 0.5744 - acc: 0.7062 - val_loss: 0.7251 - val_acc: 0.5059\n",
            "Epoch 48/100\n",
            "22/22 [==============================] - 75s 3s/step - loss: 0.5307 - acc: 0.7300 - val_loss: 0.7681 - val_acc: 0.4824\n",
            "Epoch 49/100\n",
            "22/22 [==============================] - 75s 3s/step - loss: 0.5414 - acc: 0.7285 - val_loss: 0.7758 - val_acc: 0.5471\n",
            "Epoch 50/100\n",
            "22/22 [==============================] - 76s 3s/step - loss: 0.6756 - acc: 0.6350 - val_loss: 0.7167 - val_acc: 0.5529\n",
            "Epoch 51/100\n",
            "22/22 [==============================] - 75s 3s/step - loss: 0.5829 - acc: 0.7062 - val_loss: 0.7457 - val_acc: 0.4824\n",
            "Epoch 52/100\n",
            "22/22 [==============================] - 76s 3s/step - loss: 0.5755 - acc: 0.6899 - val_loss: 0.7584 - val_acc: 0.5118\n",
            "Epoch 53/100\n",
            "22/22 [==============================] - 75s 3s/step - loss: 0.5428 - acc: 0.7062 - val_loss: 0.8348 - val_acc: 0.4706\n",
            "Epoch 54/100\n",
            "22/22 [==============================] - 75s 4s/step - loss: 0.5631 - acc: 0.7226 - val_loss: 0.7942 - val_acc: 0.5588\n",
            "Epoch 55/100\n",
            "22/22 [==============================] - 75s 4s/step - loss: 0.4924 - acc: 0.7656 - val_loss: 0.6953 - val_acc: 0.5235\n",
            "Epoch 56/100\n",
            "22/22 [==============================] - 76s 3s/step - loss: 0.4641 - acc: 0.7982 - val_loss: 0.6973 - val_acc: 0.5529\n",
            "Epoch 57/100\n",
            "22/22 [==============================] - 75s 3s/step - loss: 0.4587 - acc: 0.8071 - val_loss: 0.7258 - val_acc: 0.5588\n",
            "Epoch 58/100\n",
            "22/22 [==============================] - 75s 3s/step - loss: 0.4745 - acc: 0.7967 - val_loss: 0.7075 - val_acc: 0.5647\n",
            "Epoch 59/100\n",
            "22/22 [==============================] - 75s 3s/step - loss: 0.4658 - acc: 0.7864 - val_loss: 0.7088 - val_acc: 0.5882\n",
            "Epoch 60/100\n",
            "22/22 [==============================] - 75s 3s/step - loss: 0.4097 - acc: 0.8131 - val_loss: 0.7290 - val_acc: 0.5882\n",
            "Epoch 61/100\n",
            "22/22 [==============================] - 75s 3s/step - loss: 0.3878 - acc: 0.8383 - val_loss: 0.7013 - val_acc: 0.5353\n",
            "Epoch 62/100\n",
            "22/22 [==============================] - 75s 3s/step - loss: 0.5101 - acc: 0.7463 - val_loss: 0.7324 - val_acc: 0.5412\n",
            "Epoch 63/100\n",
            "22/22 [==============================] - 75s 3s/step - loss: 0.4346 - acc: 0.8056 - val_loss: 0.7228 - val_acc: 0.5294\n",
            "Epoch 64/100\n",
            "22/22 [==============================] - 75s 3s/step - loss: 0.4269 - acc: 0.8131 - val_loss: 0.7138 - val_acc: 0.5000\n",
            "Epoch 65/100\n",
            "22/22 [==============================] - 75s 3s/step - loss: 0.4182 - acc: 0.8101 - val_loss: 0.7642 - val_acc: 0.5647\n",
            "Epoch 66/100\n",
            "22/22 [==============================] - 75s 3s/step - loss: 0.4146 - acc: 0.8234 - val_loss: 0.9364 - val_acc: 0.4353\n",
            "Epoch 67/100\n",
            "22/22 [==============================] - 75s 3s/step - loss: 0.3488 - acc: 0.8457 - val_loss: 0.7849 - val_acc: 0.5235\n",
            "Epoch 68/100\n",
            "22/22 [==============================] - 75s 3s/step - loss: 0.3572 - acc: 0.8264 - val_loss: 0.8337 - val_acc: 0.5176\n",
            "Epoch 69/100\n",
            "22/22 [==============================] - 75s 3s/step - loss: 0.4025 - acc: 0.8190 - val_loss: 0.7006 - val_acc: 0.5529\n",
            "Epoch 70/100\n",
            "22/22 [==============================] - 75s 3s/step - loss: 0.3666 - acc: 0.8412 - val_loss: 0.7765 - val_acc: 0.5471\n",
            "Epoch 71/100\n",
            "22/22 [==============================] - 75s 3s/step - loss: 0.3406 - acc: 0.8487 - val_loss: 0.6877 - val_acc: 0.5706\n",
            "Epoch 72/100\n",
            "22/22 [==============================] - 75s 3s/step - loss: 0.3411 - acc: 0.8665 - val_loss: 0.6758 - val_acc: 0.5824\n",
            "Epoch 73/100\n",
            "22/22 [==============================] - 75s 3s/step - loss: 0.3254 - acc: 0.8709 - val_loss: 0.7004 - val_acc: 0.5353\n",
            "Epoch 74/100\n",
            "22/22 [==============================] - 75s 3s/step - loss: 0.2513 - acc: 0.9110 - val_loss: 0.6784 - val_acc: 0.5824\n",
            "Epoch 75/100\n",
            "22/22 [==============================] - 75s 3s/step - loss: 0.3379 - acc: 0.8591 - val_loss: 0.7081 - val_acc: 0.5941\n",
            "Epoch 76/100\n",
            "22/22 [==============================] - 75s 3s/step - loss: 0.3267 - acc: 0.8516 - val_loss: 0.7000 - val_acc: 0.5471\n",
            "Epoch 77/100\n",
            "22/22 [==============================] - 75s 3s/step - loss: 0.2855 - acc: 0.8991 - val_loss: 0.7587 - val_acc: 0.5176\n",
            "Epoch 78/100\n",
            "22/22 [==============================] - 75s 3s/step - loss: 0.3620 - acc: 0.8516 - val_loss: 0.8256 - val_acc: 0.4882\n",
            "Epoch 79/100\n",
            "22/22 [==============================] - 76s 3s/step - loss: 0.4106 - acc: 0.8249 - val_loss: 0.7890 - val_acc: 0.4882\n",
            "Epoch 80/100\n",
            "22/22 [==============================] - 75s 3s/step - loss: 0.2421 - acc: 0.9080 - val_loss: 0.8142 - val_acc: 0.4706\n",
            "Epoch 81/100\n",
            "22/22 [==============================] - 75s 4s/step - loss: 0.2343 - acc: 0.9095 - val_loss: 0.8380 - val_acc: 0.5059\n",
            "Epoch 82/100\n",
            "22/22 [==============================] - 75s 3s/step - loss: 0.2427 - acc: 0.9080 - val_loss: 0.7947 - val_acc: 0.4882\n",
            "Epoch 83/100\n",
            "22/22 [==============================] - 75s 3s/step - loss: 0.2956 - acc: 0.8694 - val_loss: 0.8128 - val_acc: 0.5588\n",
            "Epoch 84/100\n",
            "22/22 [==============================] - 75s 4s/step - loss: 0.3013 - acc: 0.8783 - val_loss: 0.7839 - val_acc: 0.5353\n",
            "Epoch 85/100\n",
            "22/22 [==============================] - 75s 3s/step - loss: 0.2756 - acc: 0.8798 - val_loss: 0.7276 - val_acc: 0.5412\n",
            "Epoch 86/100\n",
            "22/22 [==============================] - 75s 3s/step - loss: 0.3531 - acc: 0.8561 - val_loss: 0.6927 - val_acc: 0.5294\n",
            "Epoch 87/100\n",
            "22/22 [==============================] - 75s 3s/step - loss: 0.2730 - acc: 0.9065 - val_loss: 0.6869 - val_acc: 0.5647\n",
            "Epoch 88/100\n",
            "22/22 [==============================] - 75s 3s/step - loss: 0.1967 - acc: 0.9184 - val_loss: 0.7338 - val_acc: 0.5294\n",
            "Epoch 89/100\n",
            "22/22 [==============================] - 75s 3s/step - loss: 0.2554 - acc: 0.8961 - val_loss: 0.7282 - val_acc: 0.5647\n",
            "Epoch 90/100\n",
            "22/22 [==============================] - 75s 3s/step - loss: 0.2411 - acc: 0.9110 - val_loss: 0.6966 - val_acc: 0.5529\n",
            "Epoch 91/100\n",
            "22/22 [==============================] - 75s 3s/step - loss: 0.1980 - acc: 0.9288 - val_loss: 0.7006 - val_acc: 0.5529\n",
            "Epoch 92/100\n",
            "22/22 [==============================] - 75s 3s/step - loss: 0.2469 - acc: 0.8991 - val_loss: 0.7827 - val_acc: 0.5235\n",
            "Epoch 93/100\n",
            "22/22 [==============================] - 75s 3s/step - loss: 0.1952 - acc: 0.9214 - val_loss: 0.7381 - val_acc: 0.5412\n",
            "Epoch 94/100\n",
            "22/22 [==============================] - 76s 3s/step - loss: 0.2402 - acc: 0.8961 - val_loss: 0.9104 - val_acc: 0.5235\n",
            "Epoch 95/100\n",
            "22/22 [==============================] - 75s 3s/step - loss: 0.2100 - acc: 0.9199 - val_loss: 0.7363 - val_acc: 0.4941\n",
            "Epoch 96/100\n",
            "22/22 [==============================] - 75s 3s/step - loss: 0.2671 - acc: 0.8798 - val_loss: 0.6575 - val_acc: 0.6235\n",
            "Epoch 97/100\n",
            "22/22 [==============================] - 75s 3s/step - loss: 0.2794 - acc: 0.8858 - val_loss: 0.6446 - val_acc: 0.6176\n",
            "Epoch 98/100\n",
            "22/22 [==============================] - 75s 3s/step - loss: 0.1683 - acc: 0.9362 - val_loss: 0.7254 - val_acc: 0.5471\n",
            "Epoch 99/100\n",
            "22/22 [==============================] - 75s 3s/step - loss: 0.2231 - acc: 0.9110 - val_loss: 0.7067 - val_acc: 0.5412\n",
            "Epoch 100/100\n",
            "22/22 [==============================] - 75s 3s/step - loss: 0.1859 - acc: 0.9332 - val_loss: 0.8284 - val_acc: 0.5176\n"
          ]
        }
      ]
    },
    {
      "cell_type": "code",
      "metadata": {
        "id": "hjfmekVAY6Oe"
      },
      "source": [
        "%matplotlib inline\n",
        "\n",
        "import matplotlib.pyplot as plt\n",
        "import matplotlib.image as mpimg\n",
        "import numpy as np\n",
        "\n"
      ],
      "execution_count": null,
      "outputs": []
    },
    {
      "cell_type": "code",
      "metadata": {
        "colab": {
          "base_uri": "https://localhost:8080/",
          "height": 299
        },
        "id": "5iDUu-xNY9z_",
        "outputId": "13b111fa-c05e-46d9-a84c-9bee363e241f"
      },
      "source": [
        "plt.style.use(\"ggplot\")\n",
        "plt.figure()\n",
        "plt.plot(np.arange(0, 100), H.history[\"loss\"], label=\"train_loss\")\n",
        "plt.plot(np.arange(0, 100), H.history[\"val_loss\"], label=\"val_loss\")\n",
        "plt.title(\"Loss Plot\")\n",
        "plt.xlabel(\"Epoch #\")\n",
        "plt.ylabel(\"Loss\")\n",
        "plt.legend()\n",
        "plt.show()"
      ],
      "execution_count": null,
      "outputs": [
        {
          "output_type": "display_data",
          "data": {
            "image/png": "[encoded data removed]",
            "text/plain": [
              "<Figure size 432x288 with 1 Axes>"
            ]
          },
          "metadata": {}
        }
      ]
    },
    {
      "cell_type": "code",
      "metadata": {
        "colab": {
          "base_uri": "https://localhost:8080/",
          "height": 299
        },
        "id": "amhHQAaqZINW",
        "outputId": "f0061d77-c315-4bde-8b8e-51d904717cf2"
      },
      "source": [
        "plt.style.use(\"ggplot\")\n",
        "plt.figure()\n",
        "plt.plot(np.arange(0, 100), H.history[\"acc\"], label=\"train_acc\")\n",
        "plt.plot(np.arange(0, 100), H.history[\"val_acc\"], label=\"val_acc\")\n",
        "plt.title(\"Accuracy Plot\")\n",
        "plt.xlabel(\"Epoch #\")\n",
        "plt.ylabel(\"Acc\")\n",
        "plt.legend()\n",
        "plt.show()"
      ],
      "execution_count": null,
      "outputs": [
        {
          "output_type": "display_data",
          "data": {
            "image/png": "[encoded data removed]",
            "text/plain": [
              "<Figure size 432x288 with 1 Axes>"
            ]
          },
          "metadata": {}
        }
      ]
    },
    {
      "cell_type": "code",
      "metadata": {
        "colab": {
          "base_uri": "https://localhost:8080/"
        },
        "id": "gsnijyk9bGyC",
        "outputId": "862f4040-a4e3-469e-c7fe-3c5d99b7053e"
      },
      "source": [
        "%cd /content/drive/MyDrive/Praktikum Kelompok_1/model_covid"
      ],
      "execution_count": null,
      "outputs": [
        {
          "output_type": "stream",
          "name": "stdout",
          "text": [
            "/content/drive/MyDrive/Praktikum Kelompok_1/model_covid\n"
          ]
        }
      ]
    },
    {
      "cell_type": "code",
      "metadata": {
        "colab": {
          "base_uri": "https://localhost:8080/"
        },
        "id": "f_Xqfp5DaKyG",
        "outputId": "c8412696-dc35-4307-9832-23ce25a01c62"
      },
      "source": [
        "from keras.models import model_from_json\n",
        "# serialize model to JSON\n",
        "model_json = model.to_json()\n",
        "with open(\"model5.json\", \"w\") as json_file:\n",
        "    json_file.write(model_json)\n",
        "# serialize weights to HDF5\n",
        "model.save_weights(\"model5.h5\")\n",
        "print(\"Saved model to disk\")"
      ],
      "execution_count": null,
      "outputs": [
        {
          "output_type": "stream",
          "name": "stdout",
          "text": [
            "Saved model to disk\n"
          ]
        }
      ]
    }
  ]
}
