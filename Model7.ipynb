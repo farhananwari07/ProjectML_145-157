{
  "cells": [
    {
      "cell_type": "markdown",
      "metadata": {
        "id": "view-in-github",
        "colab_type": "text"
      },
      "source": [
        "<a href=\"https://colab.research.google.com/github/farhananwari07/ProjectML_145-157/blob/main/Model7.ipynb\" target=\"_parent\"><img src=\"https://colab.research.google.com/assets/colab-badge.svg\" alt=\"Open In Colab\"/></a>"
      ]
    },
    {
      "cell_type": "code",
      "execution_count": null,
      "metadata": {
        "id": "w14qjAZe08Yv"
      },
      "outputs": [],
      "source": [
        "import os\n",
        "import argparse\n",
        "import numpy as np\n",
        "from imutils import paths\n",
        "import matplotlib.pyplot as plt\n",
        "from tensorflow.keras.layers import Dense\n",
        "from tensorflow.keras.layers import Input\n",
        "from tensorflow.keras.models import Model\n",
        "from sklearn.metrics import accuracy_score\n",
        "from tensorflow.keras.layers import Dropout\n",
        "from tensorflow.keras.layers import Flatten\n",
        "from tensorflow.keras.optimizers import Adam\n",
        "from sklearn.preprocessing import LabelEncoder\n",
        "from sklearn.metrics import classification_report\n",
        "from tensorflow.keras.utils import to_categorical\n",
        "from tensorflow.keras.applications import ResNet50\n",
        "from sklearn.model_selection import train_test_split\n",
        "from tensorflow.keras.layers import AveragePooling2D\n",
        "from tensorflow.keras.preprocessing.image import load_img\n",
        "from tensorflow.keras.preprocessing.image import img_to_array\n",
        "from tensorflow.keras.preprocessing.image import ImageDataGenerator\n",
        "from tensorflow.keras.applications.resnet import preprocess_input\n",
        "\n",
        "plt.style.use('ggplot')"
      ]
    },
    {
      "cell_type": "code",
      "execution_count": null,
      "metadata": {
        "id": "2KM0uPNm13AS"
      },
      "outputs": [],
      "source": [
        "from keras.preprocessing.image import ImageDataGenerator\n",
        "augs_gen = ImageDataGenerator(\n",
        "    rescale=1./255,\n",
        "    rotation_range=20,\n",
        "    zoom_range=0.15,\n",
        "    width_shift_range=0.2,\n",
        "    height_shift_range=0.2,\n",
        "    shear_range=0.15,\n",
        "    horizontal_flip=True,\n",
        "    fill_mode=\"nearest\"\n",
        ")  "
      ]
    },
    {
      "cell_type": "code",
      "execution_count": null,
      "metadata": {
        "colab": {
          "base_uri": "https://localhost:8080/"
        },
        "id": "gqFYNx8U2OZa",
        "outputId": "c5f85d30-8b5c-4e8b-910a-b14ecf246898"
      },
      "outputs": [
        {
          "name": "stdout",
          "output_type": "stream",
          "text": [
            "Found 684 images belonging to 2 classes.\n"
          ]
        }
      ],
      "source": [
        "train_dir = '/content/drive/MyDrive/Praktikum Kelompok_1/model_covid/train'\n",
        "train_gen = augs_gen.flow_from_directory(\n",
        "    train_dir,\n",
        "    target_size = (224,224),\n",
        "    batch_size=32,\n",
        "    color_mode='rgb',\n",
        "    class_mode = 'categorical',\n",
        "    shuffle = False\n",
        ")"
      ]
    },
    {
      "cell_type": "code",
      "execution_count": null,
      "metadata": {
        "colab": {
          "base_uri": "https://localhost:8080/"
        },
        "id": "yJrgY2hD2SB6",
        "outputId": "3c0f92f5-8d7a-4d2f-8c45-7ffa299c6efe"
      },
      "outputs": [
        {
          "name": "stdout",
          "output_type": "stream",
          "text": [
            "Found 160 images belonging to 2 classes.\n"
          ]
        }
      ],
      "source": [
        "val_dir ='/content/drive/MyDrive/Praktikum Kelompok_1/model_covid/validation'\n",
        "val_gen = augs_gen.flow_from_directory(\n",
        "    val_dir,\n",
        "    target_size=(224,224),\n",
        "    batch_size=32,\n",
        "    color_mode='rgb',\n",
        "    class_mode='categorical',\n",
        "    shuffle = False\n",
        ")"
      ]
    },
    {
      "cell_type": "code",
      "execution_count": null,
      "metadata": {
        "colab": {
          "base_uri": "https://localhost:8080/"
        },
        "id": "WDWyQuUk3Piq",
        "outputId": "b1e24b46-cbc3-4a63-cb3b-ff7048f05061"
      },
      "outputs": [
        {
          "name": "stdout",
          "output_type": "stream",
          "text": [
            "Found 8 images belonging to 3 classes.\n"
          ]
        }
      ],
      "source": [
        "test_dir ='/content/drive/MyDrive/Praktikum Kelompok_1/model_covid/test'\n",
        "test_gen = augs_gen.flow_from_directory(\n",
        "    test_dir,\n",
        "    target_size=(224,224),\n",
        "    batch_size=32,\n",
        "    color_mode='rgb',\n",
        "    class_mode='categorical',\n",
        "    shuffle = False\n",
        ")"
      ]
    },
    {
      "cell_type": "code",
      "execution_count": null,
      "metadata": {
        "id": "GZtDT9cp3YfN"
      },
      "outputs": [],
      "source": [
        "INIT_LR = 1e-4\n",
        "EPOCHS = 20\n",
        "BS = 32"
      ]
    },
    {
      "cell_type": "code",
      "execution_count": null,
      "metadata": {
        "colab": {
          "base_uri": "https://localhost:8080/"
        },
        "id": "LJyCrJw73bV-",
        "outputId": "9def1dc7-cce5-489f-8853-907443c43fca"
      },
      "outputs": [
        {
          "name": "stderr",
          "output_type": "stream",
          "text": [
            "/usr/local/lib/python3.7/dist-packages/keras/optimizer_v2/adam.py:105: UserWarning: The `lr` argument is deprecated, use `learning_rate` instead.\n",
            "  super(Adam, self).__init__(name, **kwargs)\n"
          ]
        }
      ],
      "source": [
        "baseModel = ResNet50(weights=\"imagenet\", include_top=False, input_tensor=Input(shape=(224, 224, 3)))\n",
        "\n",
        "headModel = baseModel.output\n",
        "headModel = AveragePooling2D(pool_size=(7, 7))(headModel)\n",
        "headModel = Flatten(name=\"flatten\")(headModel)\n",
        "headModel = Dense(128, activation=\"relu\")(headModel)\n",
        "headModel = Dropout(0.5)(headModel)\n",
        "headModel = Dense(64, activation=\"relu\")(headModel)\n",
        "headModel = Dropout(0.2)(headModel)\n",
        "headModel = Dense(2, activation=\"softmax\")(headModel)\n",
        "\n",
        "model = Model(inputs=baseModel.input, outputs=headModel)\n",
        "\n",
        "for layer in baseModel.layers:\n",
        "\tlayer.trainable = True\n",
        "\n",
        "opt = Adam(lr=INIT_LR, decay=INIT_LR/EPOCHS)\n"
      ]
    },
    {
      "cell_type": "code",
      "execution_count": null,
      "metadata": {
        "id": "n4EbmjAF4nvD"
      },
      "outputs": [],
      "source": [
        "model.compile(loss=\"binary_crossentropy\", optimizer=opt, metrics=[\"accuracy\"])"
      ]
    },
    {
      "cell_type": "code",
      "execution_count": null,
      "metadata": {
        "id": "qrWL8mHO5GoT"
      },
      "outputs": [],
      "source": [
        "del model"
      ]
    },
    {
      "cell_type": "code",
      "execution_count": null,
      "metadata": {
        "colab": {
          "background_save": true,
          "base_uri": "https://localhost:8080/"
        },
        "id": "6k6fRi4v3f7D",
        "outputId": "7314b9b4-dbf0-45c4-ce29-98136d91ad5c"
      },
      "outputs": [
        {
          "name": "stdout",
          "output_type": "stream",
          "text": [
            "Epoch 1/20\n",
            "20/20 [==============================] - 599s 29s/step - loss: 0.7884 - accuracy: 0.4871 - val_loss: 0.6961 - val_accuracy: 0.5000\n",
            "Epoch 2/20\n",
            "20/20 [==============================] - 526s 26s/step - loss: 0.7218 - accuracy: 0.4823 - val_loss: 1.1930 - val_accuracy: 0.5000\n",
            "Epoch 3/20\n",
            "20/20 [==============================] - 528s 26s/step - loss: 0.7294 - accuracy: 0.4806 - val_loss: 1.9169 - val_accuracy: 0.5000\n",
            "Epoch 4/20\n",
            "20/20 [==============================] - 532s 27s/step - loss: 0.7029 - accuracy: 0.5565 - val_loss: 5.7232 - val_accuracy: 0.5000\n",
            "Epoch 5/20\n",
            "20/20 [==============================] - 540s 27s/step - loss: 0.7070 - accuracy: 0.5156 - val_loss: 5.8587 - val_accuracy: 0.5000\n",
            "Epoch 6/20\n",
            "20/20 [==============================] - 524s 26s/step - loss: 0.7056 - accuracy: 0.5048 - val_loss: 37.1441 - val_accuracy: 0.5000\n",
            "Epoch 7/20\n",
            "20/20 [==============================] - 520s 26s/step - loss: 0.7029 - accuracy: 0.5210 - val_loss: 16.2736 - val_accuracy: 0.5000\n",
            "Epoch 8/20\n",
            "20/20 [==============================] - 521s 26s/step - loss: 0.6884 - accuracy: 0.5710 - val_loss: 6.1289 - val_accuracy: 0.5000\n",
            "Epoch 9/20\n",
            "20/20 [==============================] - 529s 26s/step - loss: 0.6766 - accuracy: 0.5903 - val_loss: 17.8830 - val_accuracy: 0.5000\n",
            "Epoch 10/20\n",
            "13/20 [==================>...........] - ETA: 2:47 - loss: 0.6090 - accuracy: 0.7045"
          ]
        }
      ],
      "source": [
        "HR = model.fit(\n",
        "\ttrain_gen,\n",
        "\tsteps_per_epoch=20,\n",
        "\tvalidation_data=(val_gen),\n",
        "\tvalidation_steps=5,\n",
        "\tepochs=EPOCHS)\n"
      ]
    }
  ],
  "metadata": {
    "colab": {
      "collapsed_sections": [],
      "name": "Model7.ipynb",
      "provenance": [],
      "mount_file_id": "1V2NuItbY0RYdz6Ytbzz10w3_Uv5PYrBW",
      "authorship_tag": "ABX9TyNlqh2fa0VchzsN5/gcYB8J",
      "include_colab_link": true
    },
    "kernelspec": {
      "display_name": "Python 3",
      "name": "python3"
    },
    "language_info": {
      "name": "python"
    }
  },
  "nbformat": 4,
  "nbformat_minor": 0
}