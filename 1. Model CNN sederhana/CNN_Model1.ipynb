{
  "nbformat": 4,
  "nbformat_minor": 0,
  "metadata": {
    "colab": {
      "name": "CNN_Model1.ipynb",
      "provenance": []
    },
    "kernelspec": {
      "name": "python3",
      "display_name": "Python 3"
    },
    "language_info": {
      "name": "python"
    }
  },
  "cells": [
    {
      "cell_type": "code",
      "metadata": {
        "colab": {
          "base_uri": "https://localhost:8080/"
        },
        "id": "kE7H88y-Mo73",
        "outputId": "6029dee5-fdc6-4665-eaf8-dafba36f8480"
      },
      "source": [
        "%cd \"/content/drive/MyDrive/Praktikum Kelompok_1\""
      ],
      "execution_count": 5,
      "outputs": [
        {
          "output_type": "stream",
          "name": "stdout",
          "text": [
            "/content/drive/MyDrive/Praktikum Kelompok_1\n"
          ]
        }
      ]
    },
    {
      "cell_type": "code",
      "metadata": {
        "colab": {
          "base_uri": "https://localhost:8080/"
        },
        "id": "A_RTlD5iwjMp",
        "outputId": "04a551d2-79c9-4ff0-8fe7-516dbd7c4fdb"
      },
      "source": [
        "from google.colab import drive\n",
        "drive.mount('/content/drive')"
      ],
      "execution_count": 2,
      "outputs": [
        {
          "output_type": "stream",
          "name": "stdout",
          "text": [
            "Mounted at /content/drive\n"
          ]
        }
      ]
    },
    {
      "cell_type": "code",
      "metadata": {
        "id": "0nLBE5r6M3Ho"
      },
      "source": [
        "import numpy as np\n"
      ],
      "execution_count": 3,
      "outputs": []
    },
    {
      "cell_type": "code",
      "metadata": {
        "id": "tN6QQMg29z1W"
      },
      "source": [
        "x_train = np.load(\"xtrain.npy\")\n",
        "x_test = np.load(\"xval.npy\")\n",
        "y_train = np.load(\"ytrain.npy\")\n",
        "y_test = np.load(\"yval.npy\")"
      ],
      "execution_count": 6,
      "outputs": []
    },
    {
      "cell_type": "code",
      "metadata": {
        "id": "X_rAa8Lz-TRy"
      },
      "source": [
        "from tensorflow.keras.models import Sequential\n",
        "from tensorflow.keras.layers import InputLayer, Dense, Conv2D, MaxPool2D, Flatten, Dropout, GlobalMaxPool2D, AveragePooling2D, GlobalAveragePooling2D"
      ],
      "execution_count": 7,
      "outputs": []
    },
    {
      "cell_type": "code",
      "metadata": {
        "id": "dGA6eEHNPAZZ"
      },
      "source": [
        "del model"
      ],
      "execution_count": 15,
      "outputs": []
    },
    {
      "cell_type": "code",
      "metadata": {
        "id": "4H5kUSak-VCa"
      },
      "source": [
        "model = Sequential()\n",
        "\n",
        "model.add(InputLayer(input_shape=[100,100,3]))\n",
        "model.add(Conv2D(filters=16, kernel_size=3, strides=1, padding='same', activation='relu'))\n",
        "model.add(MaxPool2D(pool_size=2, padding='same'))\n",
        "model.add(Conv2D(filters=32, kernel_size=3, strides=1, padding='same', activation='relu'))\n",
        "model.add(MaxPool2D(pool_size=2, padding='same'))\n",
        "\n",
        "model.add(GlobalMaxPool2D())\n",
        "model.add(Flatten())\n",
        "\n",
        "# Fully Connected Layer\n",
        "model.add(Dense(256, activation='relu'))\n",
        "model.add(Dense(1, activation='sigmoid'))\n",
        "\n"
      ],
      "execution_count": 16,
      "outputs": []
    },
    {
      "cell_type": "code",
      "metadata": {
        "id": "q343AqKi-XjR",
        "colab": {
          "base_uri": "https://localhost:8080/"
        },
        "outputId": "6e2b0d8f-32e3-436a-99f1-d53ee0a3862f"
      },
      "source": [
        "model.summary()"
      ],
      "execution_count": 17,
      "outputs": [
        {
          "output_type": "stream",
          "name": "stdout",
          "text": [
            "Model: \"sequential_2\"\n",
            "_________________________________________________________________\n",
            "Layer (type)                 Output Shape              Param #   \n",
            "=================================================================\n",
            "conv2d_6 (Conv2D)            (None, 100, 100, 16)      448       \n",
            "_________________________________________________________________\n",
            "max_pooling2d_5 (MaxPooling2 (None, 50, 50, 16)        0         \n",
            "_________________________________________________________________\n",
            "conv2d_7 (Conv2D)            (None, 50, 50, 32)        4640      \n",
            "_________________________________________________________________\n",
            "max_pooling2d_6 (MaxPooling2 (None, 25, 25, 32)        0         \n",
            "_________________________________________________________________\n",
            "global_max_pooling2d_1 (Glob (None, 32)                0         \n",
            "_________________________________________________________________\n",
            "flatten_2 (Flatten)          (None, 32)                0         \n",
            "_________________________________________________________________\n",
            "dense_5 (Dense)              (None, 256)               8448      \n",
            "_________________________________________________________________\n",
            "dense_6 (Dense)              (None, 1)                 257       \n",
            "=================================================================\n",
            "Total params: 13,793\n",
            "Trainable params: 13,793\n",
            "Non-trainable params: 0\n",
            "_________________________________________________________________\n"
          ]
        }
      ]
    },
    {
      "cell_type": "code",
      "metadata": {
        "id": "42fUasl7-YoR",
        "colab": {
          "base_uri": "https://localhost:8080/"
        },
        "outputId": "b11b631c-4b72-46e6-ce5f-003390ff285a"
      },
      "source": [
        "from tensorflow.keras.optimizers import Adam\n",
        "\n",
        "# Compile model\n",
        "model.compile(loss='binary_crossentropy',\n",
        "              optimizer=Adam(lr=0.001),\n",
        "              metrics=['acc'])"
      ],
      "execution_count": 18,
      "outputs": [
        {
          "output_type": "stream",
          "name": "stderr",
          "text": [
            "/usr/local/lib/python3.7/dist-packages/keras/optimizer_v2/optimizer_v2.py:356: UserWarning: The `lr` argument is deprecated, use `learning_rate` instead.\n",
            "  \"The `lr` argument is deprecated, use `learning_rate` instead.\")\n"
          ]
        }
      ]
    },
    {
      "cell_type": "code",
      "metadata": {
        "id": "Xj_pd0WK-bMB",
        "colab": {
          "base_uri": "https://localhost:8080/"
        },
        "outputId": "12bbe598-fe69-447f-9d03-45a3e7104564"
      },
      "source": [
        "H = model.fit(x_train, y_train,batch_size=20, epochs=50,validation_data=(x_test, y_test))"
      ],
      "execution_count": 19,
      "outputs": [
        {
          "output_type": "stream",
          "name": "stdout",
          "text": [
            "Epoch 1/50\n",
            "30/30 [==============================] - 6s 171ms/step - loss: 0.6963 - acc: 0.5218 - val_loss: 0.6994 - val_acc: 0.5000\n",
            "Epoch 2/50\n",
            "30/30 [==============================] - 5s 165ms/step - loss: 0.6907 - acc: 0.5369 - val_loss: 0.6849 - val_acc: 0.5742\n",
            "Epoch 3/50\n",
            "30/30 [==============================] - 5s 165ms/step - loss: 0.6847 - acc: 0.5889 - val_loss: 0.6753 - val_acc: 0.6211\n",
            "Epoch 4/50\n",
            "30/30 [==============================] - 5s 166ms/step - loss: 0.6809 - acc: 0.5721 - val_loss: 0.6683 - val_acc: 0.6133\n",
            "Epoch 5/50\n",
            "30/30 [==============================] - 5s 164ms/step - loss: 0.6751 - acc: 0.5738 - val_loss: 0.6631 - val_acc: 0.6172\n",
            "Epoch 6/50\n",
            "30/30 [==============================] - 5s 163ms/step - loss: 0.6603 - acc: 0.6107 - val_loss: 0.6692 - val_acc: 0.5547\n",
            "Epoch 7/50\n",
            "30/30 [==============================] - 5s 164ms/step - loss: 0.6645 - acc: 0.6023 - val_loss: 0.6564 - val_acc: 0.5820\n",
            "Epoch 8/50\n",
            "30/30 [==============================] - 5s 164ms/step - loss: 0.6496 - acc: 0.6460 - val_loss: 0.6411 - val_acc: 0.6094\n",
            "Epoch 9/50\n",
            "30/30 [==============================] - 5s 164ms/step - loss: 0.6458 - acc: 0.6443 - val_loss: 0.6704 - val_acc: 0.5312\n",
            "Epoch 10/50\n",
            "30/30 [==============================] - 5s 164ms/step - loss: 0.6452 - acc: 0.6057 - val_loss: 0.6507 - val_acc: 0.5703\n",
            "Epoch 11/50\n",
            "30/30 [==============================] - 5s 165ms/step - loss: 0.6332 - acc: 0.6544 - val_loss: 0.6335 - val_acc: 0.6523\n",
            "Epoch 12/50\n",
            "30/30 [==============================] - 5s 167ms/step - loss: 0.6198 - acc: 0.6628 - val_loss: 0.6410 - val_acc: 0.6523\n",
            "Epoch 13/50\n",
            "30/30 [==============================] - 5s 167ms/step - loss: 0.6027 - acc: 0.6829 - val_loss: 0.6147 - val_acc: 0.6406\n",
            "Epoch 14/50\n",
            "30/30 [==============================] - 5s 165ms/step - loss: 0.6105 - acc: 0.6728 - val_loss: 0.6096 - val_acc: 0.6445\n",
            "Epoch 15/50\n",
            "30/30 [==============================] - 5s 165ms/step - loss: 0.5836 - acc: 0.6997 - val_loss: 0.6167 - val_acc: 0.6406\n",
            "Epoch 16/50\n",
            "30/30 [==============================] - 5s 165ms/step - loss: 0.5723 - acc: 0.7097 - val_loss: 0.5961 - val_acc: 0.6523\n",
            "Epoch 17/50\n",
            "30/30 [==============================] - 5s 165ms/step - loss: 0.5729 - acc: 0.7064 - val_loss: 0.6049 - val_acc: 0.6719\n",
            "Epoch 18/50\n",
            "30/30 [==============================] - 5s 165ms/step - loss: 0.5407 - acc: 0.7517 - val_loss: 0.5992 - val_acc: 0.6758\n",
            "Epoch 19/50\n",
            "30/30 [==============================] - 5s 164ms/step - loss: 0.5216 - acc: 0.7567 - val_loss: 0.5842 - val_acc: 0.6953\n",
            "Epoch 20/50\n",
            "30/30 [==============================] - 5s 165ms/step - loss: 0.5134 - acc: 0.7735 - val_loss: 0.6275 - val_acc: 0.6602\n",
            "Epoch 21/50\n",
            "30/30 [==============================] - 5s 165ms/step - loss: 0.5418 - acc: 0.7299 - val_loss: 0.5973 - val_acc: 0.6836\n",
            "Epoch 22/50\n",
            "30/30 [==============================] - 5s 166ms/step - loss: 0.5144 - acc: 0.7483 - val_loss: 0.5971 - val_acc: 0.6836\n",
            "Epoch 23/50\n",
            "30/30 [==============================] - 5s 167ms/step - loss: 0.4740 - acc: 0.7802 - val_loss: 0.5751 - val_acc: 0.7266\n",
            "Epoch 24/50\n",
            "30/30 [==============================] - 5s 165ms/step - loss: 0.4639 - acc: 0.7903 - val_loss: 0.5788 - val_acc: 0.7148\n",
            "Epoch 25/50\n",
            "30/30 [==============================] - 5s 166ms/step - loss: 0.4443 - acc: 0.8054 - val_loss: 0.5780 - val_acc: 0.6836\n",
            "Epoch 26/50\n",
            "30/30 [==============================] - 5s 166ms/step - loss: 0.4388 - acc: 0.8087 - val_loss: 0.5811 - val_acc: 0.7070\n",
            "Epoch 27/50\n",
            "30/30 [==============================] - 5s 165ms/step - loss: 0.4617 - acc: 0.7886 - val_loss: 0.5962 - val_acc: 0.6797\n",
            "Epoch 28/50\n",
            "30/30 [==============================] - 5s 165ms/step - loss: 0.4272 - acc: 0.7919 - val_loss: 0.6090 - val_acc: 0.6758\n",
            "Epoch 29/50\n",
            "30/30 [==============================] - 5s 166ms/step - loss: 0.4000 - acc: 0.8238 - val_loss: 0.5844 - val_acc: 0.7148\n",
            "Epoch 30/50\n",
            "30/30 [==============================] - 5s 165ms/step - loss: 0.3937 - acc: 0.8289 - val_loss: 0.6130 - val_acc: 0.7031\n",
            "Epoch 31/50\n",
            "30/30 [==============================] - 5s 165ms/step - loss: 0.3798 - acc: 0.8339 - val_loss: 0.6325 - val_acc: 0.6797\n",
            "Epoch 32/50\n",
            "30/30 [==============================] - 5s 165ms/step - loss: 0.3680 - acc: 0.8356 - val_loss: 0.6058 - val_acc: 0.7070\n",
            "Epoch 33/50\n",
            "30/30 [==============================] - 5s 165ms/step - loss: 0.3439 - acc: 0.8591 - val_loss: 0.6082 - val_acc: 0.6992\n",
            "Epoch 34/50\n",
            "30/30 [==============================] - 5s 163ms/step - loss: 0.3703 - acc: 0.8322 - val_loss: 0.6181 - val_acc: 0.6953\n",
            "Epoch 35/50\n",
            "30/30 [==============================] - 5s 164ms/step - loss: 0.3271 - acc: 0.8742 - val_loss: 0.6405 - val_acc: 0.7109\n",
            "Epoch 36/50\n",
            "30/30 [==============================] - 5s 165ms/step - loss: 0.3470 - acc: 0.8540 - val_loss: 0.6882 - val_acc: 0.6719\n",
            "Epoch 37/50\n",
            "30/30 [==============================] - 5s 165ms/step - loss: 0.3402 - acc: 0.8591 - val_loss: 0.6620 - val_acc: 0.7031\n",
            "Epoch 38/50\n",
            "30/30 [==============================] - 5s 164ms/step - loss: 0.3251 - acc: 0.8641 - val_loss: 0.6664 - val_acc: 0.6719\n",
            "Epoch 39/50\n",
            "30/30 [==============================] - 5s 166ms/step - loss: 0.3479 - acc: 0.8305 - val_loss: 0.8239 - val_acc: 0.5938\n",
            "Epoch 40/50\n",
            "30/30 [==============================] - 5s 166ms/step - loss: 0.3103 - acc: 0.8792 - val_loss: 0.6924 - val_acc: 0.6992\n",
            "Epoch 41/50\n",
            "30/30 [==============================] - 5s 165ms/step - loss: 0.2744 - acc: 0.8926 - val_loss: 0.6539 - val_acc: 0.7070\n",
            "Epoch 42/50\n",
            "30/30 [==============================] - 5s 165ms/step - loss: 0.2688 - acc: 0.8977 - val_loss: 0.7215 - val_acc: 0.6875\n",
            "Epoch 43/50\n",
            "30/30 [==============================] - 5s 165ms/step - loss: 0.2725 - acc: 0.8926 - val_loss: 0.6755 - val_acc: 0.7109\n",
            "Epoch 44/50\n",
            "30/30 [==============================] - 5s 165ms/step - loss: 0.2477 - acc: 0.8960 - val_loss: 0.6878 - val_acc: 0.7031\n",
            "Epoch 45/50\n",
            "30/30 [==============================] - 5s 165ms/step - loss: 0.2407 - acc: 0.9128 - val_loss: 0.7128 - val_acc: 0.6758\n",
            "Epoch 46/50\n",
            "30/30 [==============================] - 5s 167ms/step - loss: 0.2405 - acc: 0.9077 - val_loss: 0.7534 - val_acc: 0.7031\n",
            "Epoch 47/50\n",
            "30/30 [==============================] - 5s 166ms/step - loss: 0.2372 - acc: 0.8977 - val_loss: 0.7581 - val_acc: 0.6875\n",
            "Epoch 48/50\n",
            "30/30 [==============================] - 5s 166ms/step - loss: 0.2167 - acc: 0.9245 - val_loss: 0.7758 - val_acc: 0.6992\n",
            "Epoch 49/50\n",
            "30/30 [==============================] - 5s 166ms/step - loss: 0.2249 - acc: 0.9144 - val_loss: 0.7750 - val_acc: 0.6719\n",
            "Epoch 50/50\n",
            "30/30 [==============================] - 5s 165ms/step - loss: 0.2557 - acc: 0.8943 - val_loss: 0.9014 - val_acc: 0.6367\n"
          ]
        }
      ]
    },
    {
      "cell_type": "code",
      "metadata": {
        "id": "SkGocrbocZ-L"
      },
      "source": [
        "del H"
      ],
      "execution_count": null,
      "outputs": []
    },
    {
      "cell_type": "code",
      "metadata": {
        "colab": {
          "base_uri": "https://localhost:8080/"
        },
        "id": "Xiel47FWR-qy",
        "outputId": "0da45aa2-3969-4557-87f7-24d7d85750ab"
      },
      "source": [
        "from sklearn.metrics import classification_report\n",
        "\n",
        "pred = model.predict(x_test)\n",
        "labels = (pred > 0.5).astype(np.int)\n",
        "\n",
        "print(classification_report(y_test, labels))"
      ],
      "execution_count": 20,
      "outputs": [
        {
          "output_type": "stream",
          "name": "stdout",
          "text": [
            "              precision    recall  f1-score   support\n",
            "\n",
            "           0       0.71      0.46      0.56       128\n",
            "           1       0.60      0.81      0.69       128\n",
            "\n",
            "    accuracy                           0.64       256\n",
            "   macro avg       0.66      0.64      0.63       256\n",
            "weighted avg       0.66      0.64      0.63       256\n",
            "\n"
          ]
        }
      ]
    },
    {
      "cell_type": "code",
      "metadata": {
        "colab": {
          "base_uri": "https://localhost:8080/"
        },
        "id": "rfVj-lSma8vk",
        "outputId": "c50ae748-1f7f-48f4-a20c-d72380856784"
      },
      "source": [
        "loss, acc = model.evaluate(x_test, y_test, verbose=2)\n",
        "print(\"Untrained model, accuracy: {:5.2f}%\".format(100 * acc))\n"
      ],
      "execution_count": 21,
      "outputs": [
        {
          "output_type": "stream",
          "name": "stdout",
          "text": [
            "8/8 - 1s - loss: 0.9014 - acc: 0.6367\n",
            "Untrained model, accuracy: 63.67%\n"
          ]
        }
      ]
    },
    {
      "cell_type": "code",
      "metadata": {
        "colab": {
          "base_uri": "https://localhost:8080/",
          "height": 299
        },
        "id": "CdvwMKPN2_4l",
        "outputId": "966f7e09-6ea1-4865-ceea-3fe06f0968bf"
      },
      "source": [
        "%matplotlib inline\n",
        "\n",
        "import matplotlib.pyplot as plt\n",
        "\n",
        "plt.style.use(\"ggplot\")\n",
        "plt.figure()\n",
        "plt.plot(np.arange(0, 50), H.history[\"loss\"], label=\"train_loss\")\n",
        "plt.plot(np.arange(0, 50), H.history[\"val_loss\"], label=\"val_loss\")\n",
        "plt.title(\"Loss Plot\")\n",
        "plt.xlabel(\"Epoch #\")\n",
        "plt.ylabel(\"Loss\")\n",
        "plt.legend()\n",
        "plt.show()"
      ],
      "execution_count": 23,
      "outputs": [
        {
          "output_type": "display_data",
          "data": {
            "image/png": "[encoded data removed]",
            "text/plain": [
              "<Figure size 432x288 with 1 Axes>"
            ]
          },
          "metadata": {}
        }
      ]
    },
    {
      "cell_type": "code",
      "metadata": {
        "colab": {
          "base_uri": "https://localhost:8080/",
          "height": 299
        },
        "id": "E88pZkjq3Ej0",
        "outputId": "d0e8a8b9-4630-4de5-8c07-fd276f0dc2fd"
      },
      "source": [
        "plt.style.use(\"ggplot\")\n",
        "plt.figure()\n",
        "plt.plot(np.arange(0, 50), H.history[\"acc\"], label=\"train_acc\")\n",
        "plt.plot(np.arange(0, 50), H.history[\"val_acc\"], label=\"val_acc\")\n",
        "plt.title(\"Accuracy Plot\")\n",
        "plt.xlabel(\"Epoch #\")\n",
        "plt.ylabel(\"Acc\")\n",
        "plt.legend()\n",
        "plt.show()"
      ],
      "execution_count": 24,
      "outputs": [
        {
          "output_type": "display_data",
          "data": {
            "image/png": "[encoded data removed]",
            "text/plain": [
              "<Figure size 432x288 with 1 Axes>"
            ]
          },
          "metadata": {}
        }
      ]
    },
    {
      "cell_type": "code",
      "metadata": {
        "id": "HYyXS3z2cCMa"
      },
      "source": [
        "model.save(\"CNNModel1.h5\")"
      ],
      "execution_count": 25,
      "outputs": []
    },
    {
      "cell_type": "code",
      "metadata": {
        "colab": {
          "base_uri": "https://localhost:8080/",
          "height": 36
        },
        "id": "y47r3xxW3_Oa",
        "outputId": "28a305e1-0b77-4970-f737-dfddc3dc0eaf"
      },
      "source": [
        "pwd"
      ],
      "execution_count": 26,
      "outputs": [
        {
          "output_type": "execute_result",
          "data": {
            "application/vnd.google.colaboratory.intrinsic+json": {
              "type": "string"
            },
            "text/plain": [
              "'/content/drive/MyDrive/Praktikum Kelompok_1'"
            ]
          },
          "metadata": {},
          "execution_count": 26
        }
      ]
    }
  ]
}
