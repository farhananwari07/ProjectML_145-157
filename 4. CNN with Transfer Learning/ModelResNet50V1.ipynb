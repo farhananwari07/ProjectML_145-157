{
  "cells": [
    {
      "cell_type": "markdown",
      "metadata": {
        "id": "view-in-github",
        "colab_type": "text"
      },
      "source": [
        "<a href=\"https://colab.research.google.com/github/farhananwari07/ProjectML_145-157/blob/main/ModelResNet50V1.ipynb\" target=\"_parent\"><img src=\"https://colab.research.google.com/assets/colab-badge.svg\" alt=\"Open In Colab\"/></a>"
      ]
    },
    {
      "cell_type": "code",
      "execution_count": 1,
      "metadata": {
        "id": "w14qjAZe08Yv"
      },
      "outputs": [],
      "source": [
        "import os\n",
        "import argparse\n",
        "import numpy as np\n",
        "from imutils import paths\n",
        "import matplotlib.pyplot as plt\n",
        "from tensorflow.keras.layers import Dense\n",
        "from tensorflow.keras.layers import Input\n",
        "from tensorflow.keras.models import Model\n",
        "from sklearn.metrics import accuracy_score\n",
        "from tensorflow.keras.layers import Dropout\n",
        "from tensorflow.keras.layers import Flatten\n",
        "from tensorflow.keras.optimizers import Adam\n",
        "from sklearn.preprocessing import LabelEncoder\n",
        "from sklearn.metrics import classification_report\n",
        "from tensorflow.keras.utils import to_categorical\n",
        "from tensorflow.keras.applications import ResNet50\n",
        "from sklearn.model_selection import train_test_split\n",
        "from tensorflow.keras.layers import AveragePooling2D\n",
        "from tensorflow.keras.preprocessing.image import load_img\n",
        "from tensorflow.keras.preprocessing.image import img_to_array\n",
        "from tensorflow.keras.preprocessing.image import ImageDataGenerator\n",
        "from tensorflow.keras.applications.resnet import preprocess_input\n",
        "\n",
        "plt.style.use('ggplot')"
      ]
    },
    {
      "cell_type": "code",
      "execution_count": 2,
      "metadata": {
        "id": "2KM0uPNm13AS"
      },
      "outputs": [],
      "source": [
        "from keras.preprocessing.image import ImageDataGenerator\n",
        "augs_gen = ImageDataGenerator(\n",
        "    rescale=1./255,\n",
        "    rotation_range=20,\n",
        "    zoom_range=0.15,\n",
        "    width_shift_range=0.2,\n",
        "    height_shift_range=0.2,\n",
        "    shear_range=0.15,\n",
        "    horizontal_flip=True,\n",
        "    fill_mode=\"nearest\"\n",
        ")  "
      ]
    },
    {
      "cell_type": "code",
      "execution_count": 3,
      "metadata": {
        "colab": {
          "base_uri": "https://localhost:8080/"
        },
        "id": "gqFYNx8U2OZa",
        "outputId": "5f981d9d-aebd-4f01-e550-d51980afb7ac"
      },
      "outputs": [
        {
          "output_type": "stream",
          "name": "stdout",
          "text": [
            "Found 684 images belonging to 2 classes.\n"
          ]
        }
      ],
      "source": [
        "train_dir = '/content/drive/MyDrive/Praktikum Kelompok_1/model_covid/train'\n",
        "train_gen = augs_gen.flow_from_directory(\n",
        "    train_dir,\n",
        "    target_size = (224,224),\n",
        "    batch_size=32,\n",
        "    color_mode='rgb',\n",
        "    class_mode = 'categorical',\n",
        "    shuffle = False\n",
        ")"
      ]
    },
    {
      "cell_type": "code",
      "execution_count": 4,
      "metadata": {
        "colab": {
          "base_uri": "https://localhost:8080/"
        },
        "id": "yJrgY2hD2SB6",
        "outputId": "13aec86e-8d15-44fe-daff-5dc095484636"
      },
      "outputs": [
        {
          "output_type": "stream",
          "name": "stdout",
          "text": [
            "Found 160 images belonging to 2 classes.\n"
          ]
        }
      ],
      "source": [
        "val_dir ='/content/drive/MyDrive/Praktikum Kelompok_1/model_covid/validation'\n",
        "val_gen = augs_gen.flow_from_directory(\n",
        "    val_dir,\n",
        "    target_size=(224,224),\n",
        "    batch_size=32,\n",
        "    color_mode='rgb',\n",
        "    class_mode='categorical',\n",
        "    shuffle = False\n",
        ")"
      ]
    },
    {
      "cell_type": "code",
      "execution_count": 5,
      "metadata": {
        "colab": {
          "base_uri": "https://localhost:8080/"
        },
        "id": "WDWyQuUk3Piq",
        "outputId": "33dcd9b7-fd7e-4912-c364-1d10fa51bae6"
      },
      "outputs": [
        {
          "output_type": "stream",
          "name": "stdout",
          "text": [
            "Found 8 images belonging to 3 classes.\n"
          ]
        }
      ],
      "source": [
        "test_dir ='/content/drive/MyDrive/Praktikum Kelompok_1/model_covid/test'\n",
        "test_gen = augs_gen.flow_from_directory(\n",
        "    test_dir,\n",
        "    target_size=(224,224),\n",
        "    batch_size=32,\n",
        "    color_mode='rgb',\n",
        "    class_mode='categorical',\n",
        "    shuffle = False\n",
        ")"
      ]
    },
    {
      "cell_type": "code",
      "execution_count": 6,
      "metadata": {
        "id": "GZtDT9cp3YfN"
      },
      "outputs": [],
      "source": [
        "INIT_LR = 1e-4\n",
        "EPOCHS = 20\n",
        "BS = 32"
      ]
    },
    {
      "cell_type": "code",
      "execution_count": 7,
      "metadata": {
        "colab": {
          "base_uri": "https://localhost:8080/"
        },
        "id": "LJyCrJw73bV-",
        "outputId": "c8f17dfc-6ea9-4b91-a4e7-9931abb91baf"
      },
      "outputs": [
        {
          "output_type": "stream",
          "name": "stdout",
          "text": [
            "Downloading data from https://storage.googleapis.com/tensorflow/keras-applications/resnet/resnet50_weights_tf_dim_ordering_tf_kernels_notop.h5\n",
            "94773248/94765736 [==============================] - 1s 0us/step\n",
            "94781440/94765736 [==============================] - 1s 0us/step\n"
          ]
        },
        {
          "output_type": "stream",
          "name": "stderr",
          "text": [
            "/usr/local/lib/python3.7/dist-packages/keras/optimizer_v2/adam.py:105: UserWarning: The `lr` argument is deprecated, use `learning_rate` instead.\n",
            "  super(Adam, self).__init__(name, **kwargs)\n"
          ]
        }
      ],
      "source": [
        "baseModel = ResNet50(weights=\"imagenet\", include_top=False, input_tensor=Input(shape=(224, 224, 3)))\n",
        "\n",
        "headModel = baseModel.output\n",
        "headModel = AveragePooling2D(pool_size=(7, 7))(headModel)\n",
        "headModel = Flatten(name=\"flatten\")(headModel)\n",
        "headModel = Dense(128, activation=\"relu\")(headModel)\n",
        "headModel = Dropout(0.5)(headModel)\n",
        "headModel = Dense(64, activation=\"relu\")(headModel)\n",
        "headModel = Dropout(0.2)(headModel)\n",
        "headModel = Dense(2, activation=\"softmax\")(headModel)\n",
        "\n",
        "model = Model(inputs=baseModel.input, outputs=headModel)\n",
        "\n",
        "for layer in baseModel.layers:\n",
        "\tlayer.trainable = True\n",
        "\n",
        "opt = Adam(lr=INIT_LR, decay=INIT_LR/EPOCHS)\n"
      ]
    },
    {
      "cell_type": "code",
      "execution_count": 8,
      "metadata": {
        "id": "n4EbmjAF4nvD"
      },
      "outputs": [],
      "source": [
        "model.compile(loss=\"binary_crossentropy\", optimizer=opt, metrics=[\"accuracy\"])"
      ]
    },
    {
      "cell_type": "code",
      "execution_count": null,
      "metadata": {
        "id": "qrWL8mHO5GoT"
      },
      "outputs": [],
      "source": [
        "del model"
      ]
    },
    {
      "cell_type": "code",
      "execution_count": 9,
      "metadata": {
        "colab": {
          "base_uri": "https://localhost:8080/"
        },
        "id": "6k6fRi4v3f7D",
        "outputId": "0f6c3e36-ad95-4b31-a1b1-86a7b6df3a9f"
      },
      "outputs": [
        {
          "output_type": "stream",
          "name": "stdout",
          "text": [
            "Epoch 1/20\n",
            "20/20 [==============================] - 249s 11s/step - loss: 0.8014 - accuracy: 0.4468 - val_loss: 0.7424 - val_accuracy: 0.5000\n",
            "Epoch 2/20\n",
            "20/20 [==============================] - 89s 4s/step - loss: 0.7200 - accuracy: 0.5258 - val_loss: 0.8026 - val_accuracy: 0.5000\n",
            "Epoch 3/20\n",
            "20/20 [==============================] - 81s 4s/step - loss: 0.7197 - accuracy: 0.4919 - val_loss: 0.9301 - val_accuracy: 0.5000\n",
            "Epoch 4/20\n",
            "20/20 [==============================] - 81s 4s/step - loss: 0.7021 - accuracy: 0.5371 - val_loss: 0.9698 - val_accuracy: 0.5000\n",
            "Epoch 5/20\n",
            "20/20 [==============================] - 86s 4s/step - loss: 0.6908 - accuracy: 0.5532 - val_loss: 1.2895 - val_accuracy: 0.5000\n",
            "Epoch 6/20\n",
            "20/20 [==============================] - 85s 4s/step - loss: 0.7038 - accuracy: 0.5141 - val_loss: 2.3396 - val_accuracy: 0.5000\n",
            "Epoch 7/20\n",
            "20/20 [==============================] - 81s 4s/step - loss: 0.7024 - accuracy: 0.5468 - val_loss: 0.7066 - val_accuracy: 0.5000\n",
            "Epoch 8/20\n",
            "20/20 [==============================] - 84s 4s/step - loss: 0.6675 - accuracy: 0.6065 - val_loss: 0.9066 - val_accuracy: 0.5000\n",
            "Epoch 9/20\n",
            "20/20 [==============================] - 80s 4s/step - loss: 0.6795 - accuracy: 0.5952 - val_loss: 0.7288 - val_accuracy: 0.5000\n",
            "Epoch 10/20\n",
            "20/20 [==============================] - 81s 4s/step - loss: 0.6771 - accuracy: 0.6000 - val_loss: 0.7400 - val_accuracy: 0.5000\n",
            "Epoch 11/20\n",
            "20/20 [==============================] - 79s 4s/step - loss: 0.6743 - accuracy: 0.6145 - val_loss: 0.7061 - val_accuracy: 0.5000\n",
            "Epoch 12/20\n",
            "20/20 [==============================] - 78s 4s/step - loss: 0.6452 - accuracy: 0.6581 - val_loss: 0.7229 - val_accuracy: 0.5000\n",
            "Epoch 13/20\n",
            "20/20 [==============================] - 80s 4s/step - loss: 0.6891 - accuracy: 0.5984 - val_loss: 0.9074 - val_accuracy: 0.5000\n",
            "Epoch 14/20\n",
            "20/20 [==============================] - 78s 4s/step - loss: 0.6361 - accuracy: 0.6919 - val_loss: 0.7068 - val_accuracy: 0.5000\n",
            "Epoch 15/20\n",
            "20/20 [==============================] - 78s 4s/step - loss: 0.6400 - accuracy: 0.6468 - val_loss: 0.7327 - val_accuracy: 0.5000\n",
            "Epoch 16/20\n",
            "20/20 [==============================] - 77s 4s/step - loss: 0.5896 - accuracy: 0.7161 - val_loss: 0.7308 - val_accuracy: 0.5000\n",
            "Epoch 17/20\n",
            "20/20 [==============================] - 77s 4s/step - loss: 0.5288 - accuracy: 0.7629 - val_loss: 0.7087 - val_accuracy: 0.5000\n",
            "Epoch 18/20\n",
            "20/20 [==============================] - 78s 4s/step - loss: 0.4970 - accuracy: 0.7797 - val_loss: 0.7060 - val_accuracy: 0.5000\n",
            "Epoch 19/20\n",
            "20/20 [==============================] - 77s 4s/step - loss: 0.6447 - accuracy: 0.6806 - val_loss: 0.8536 - val_accuracy: 0.5000\n",
            "Epoch 20/20\n",
            "20/20 [==============================] - 78s 4s/step - loss: 0.4744 - accuracy: 0.8274 - val_loss: 0.8965 - val_accuracy: 0.5000\n"
          ]
        }
      ],
      "source": [
        "HR = model.fit(\n",
        "\ttrain_gen,\n",
        "\tsteps_per_epoch=20,\n",
        "\tvalidation_data=(val_gen),\n",
        "\tvalidation_steps=5,\n",
        "\tepochs=EPOCHS)\n"
      ]
    },
    {
      "cell_type": "code",
      "source": [
        "!ls"
      ],
      "metadata": {
        "colab": {
          "base_uri": "https://localhost:8080/"
        },
        "id": "0_hjeXnMli6I",
        "outputId": "519fbde9-8f86-41d5-a0b6-adcd0f98b295"
      },
      "execution_count": 11,
      "outputs": [
        {
          "output_type": "stream",
          "name": "stdout",
          "text": [
            "drive  sample_data\n"
          ]
        }
      ]
    },
    {
      "cell_type": "code",
      "source": [
        "%cd /content/drive/MyDrive/DataPrak"
      ],
      "metadata": {
        "colab": {
          "base_uri": "https://localhost:8080/"
        },
        "id": "t3T5yZNnjmaf",
        "outputId": "f694b226-afe8-448f-ab01-cae11d5502f1"
      },
      "execution_count": 15,
      "outputs": [
        {
          "output_type": "stream",
          "name": "stdout",
          "text": [
            "/content/drive/MyDrive/DataPrak\n"
          ]
        }
      ]
    },
    {
      "cell_type": "code",
      "source": [
        "from keras.models import model_from_json\n",
        "# serialize model to JSON\n",
        "model_json = model.to_json()\n",
        "with open(\"model3.json\", \"w\") as json_file:\n",
        "    json_file.write(model_json)\n",
        "# serialize weights to HDF5\n",
        "model.save_weights(\"model3.h5\")\n",
        "print(\"Saved model to disk\")"
      ],
      "metadata": {
        "colab": {
          "base_uri": "https://localhost:8080/"
        },
        "id": "HH6TmsVwhprc",
        "outputId": "44f8df28-bab3-4b83-da6a-60a8db086642"
      },
      "execution_count": 16,
      "outputs": [
        {
          "output_type": "stream",
          "name": "stderr",
          "text": [
            "/usr/local/lib/python3.7/dist-packages/keras/engine/functional.py:1410: CustomMaskWarning: Custom mask layers require a config and must override get_config. When loading, the custom mask layer must be passed to the custom_objects argument.\n",
            "  layer_config = serialize_layer_fn(layer)\n"
          ]
        },
        {
          "output_type": "stream",
          "name": "stdout",
          "text": [
            "Saved model to disk\n"
          ]
        }
      ]
    }
  ],
  "metadata": {
    "colab": {
      "collapsed_sections": [],
      "name": "ModelResNet50V1.ipynb",
      "provenance": [],
      "mount_file_id": "1V2NuItbY0RYdz6Ytbzz10w3_Uv5PYrBW",
      "authorship_tag": "ABX9TyPuqkRI62yvJBGJNrx15/Dc",
      "include_colab_link": true
    },
    "kernelspec": {
      "display_name": "Python 3",
      "name": "python3"
    },
    "language_info": {
      "name": "python"
    },
    "accelerator": "GPU"
  },
  "nbformat": 4,
  "nbformat_minor": 0
}
