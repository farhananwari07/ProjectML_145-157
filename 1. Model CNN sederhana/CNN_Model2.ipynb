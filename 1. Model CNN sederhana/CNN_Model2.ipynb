{
  "nbformat": 4,
  "nbformat_minor": 0,
  "metadata": {
    "colab": {
      "name": "CNN_Model2.ipynb",
      "provenance": [],
      "collapsed_sections": []
    },
    "kernelspec": {
      "name": "python3",
      "display_name": "Python 3"
    },
    "language_info": {
      "name": "python"
    }
  },
  "cells": [
    {
      "cell_type": "code",
      "metadata": {
        "colab": {
          "base_uri": "https://localhost:8080/"
        },
        "id": "O8udgP4ISP9c",
        "outputId": "c1ac5bf6-86d5-4ff0-ce0e-3b9148c7c599"
      },
      "source": [
        "%cd \"/content/drive/MyDrive/praktikum_backup\""
      ],
      "execution_count": null,
      "outputs": [
        {
          "output_type": "stream",
          "name": "stdout",
          "text": [
            "/content/drive/MyDrive/praktikum_backup\n"
          ]
        }
      ]
    },
    {
      "cell_type": "code",
      "metadata": {
        "id": "TmBmZoULSkkb"
      },
      "source": [
        "import numpy as np\n"
      ],
      "execution_count": null,
      "outputs": []
    },
    {
      "cell_type": "code",
      "metadata": {
        "colab": {
          "base_uri": "https://localhost:8080/"
        },
        "id": "-QnPA_3KgoMm",
        "outputId": "4d659a4f-b2ec-4e6b-abad-f47aa82355be"
      },
      "source": [
        "from google.colab import drive\n",
        "drive.mount('/content/drive')"
      ],
      "execution_count": null,
      "outputs": [
        {
          "output_type": "stream",
          "name": "stdout",
          "text": [
            "Mounted at /content/drive\n"
          ]
        }
      ]
    },
    {
      "cell_type": "code",
      "metadata": {
        "id": "VE9Tmv_IZNXx"
      },
      "source": [
        "x_train = np.load(\"xtrain.npy\")\n",
        "x_test = np.load(\"xval.npy\")\n",
        "y_train = np.load(\"ytrain.npy\")\n",
        "y_test = np.load(\"yval.npy\")"
      ],
      "execution_count": null,
      "outputs": []
    },
    {
      "cell_type": "code",
      "metadata": {
        "id": "BJyiB4KDXvi7"
      },
      "source": [
        "from tensorflow.keras.models import Sequential\n",
        "from tensorflow.keras.layers import InputLayer, Dense, Conv2D, MaxPool2D, Flatten, Dropout, GlobalMaxPool2D, AveragePooling2D, GlobalAveragePooling2D,BatchNormalization, Activation"
      ],
      "execution_count": null,
      "outputs": []
    },
    {
      "cell_type": "code",
      "metadata": {
        "id": "uKujUQiAXArZ"
      },
      "source": [
        "del model"
      ],
      "execution_count": null,
      "outputs": []
    },
    {
      "cell_type": "code",
      "metadata": {
        "id": "QMXZ82_vritp",
        "colab": {
          "base_uri": "https://localhost:8080/"
        },
        "outputId": "88d97f5e-17d2-437d-fbcf-89918ffd7cdb"
      },
      "source": [
        "model = Sequential()\n",
        "\n",
        "model.add(InputLayer(input_shape=[100,100,3]))\n",
        "model.add(Conv2D(filters=16, kernel_size=3, strides=1, padding='same', activation='relu'))\n",
        "model.add(AveragePooling2D(pool_size=2, padding='same'))\n",
        "model.add(Conv2D(filters=32, kernel_size=3, strides=1, padding='same', activation='relu'))\n",
        "model.add(AveragePooling2D(pool_size=2, padding='same'))\n",
        "model.add(Conv2D(filters=64, kernel_size=3, strides=1, padding='same', activation='relu'))\n",
        "model.add(AveragePooling2D(pool_size=2, padding='same'))\n",
        "\n",
        "\n",
        "model.add(GlobalAveragePooling2D())\n",
        "model.add(Flatten())\n",
        "\n",
        "# Fully Connected Layer\n",
        "model.add(Dense(512, activation='relu'))\n",
        "model.add(Dense(256, activation='relu'))\n",
        "model.add(Dense(1, activation='sigmoid'))\n",
        "\n",
        "print(model.summary())"
      ],
      "execution_count": null,
      "outputs": [
        {
          "output_type": "stream",
          "name": "stdout",
          "text": [
            "Model: \"sequential_2\"\n",
            "_________________________________________________________________\n",
            "Layer (type)                 Output Shape              Param #   \n",
            "=================================================================\n",
            "conv2d_8 (Conv2D)            (None, 100, 100, 16)      448       \n",
            "_________________________________________________________________\n",
            "average_pooling2d (AveragePo (None, 50, 50, 16)        0         \n",
            "_________________________________________________________________\n",
            "conv2d_9 (Conv2D)            (None, 50, 50, 32)        4640      \n",
            "_________________________________________________________________\n",
            "average_pooling2d_1 (Average (None, 25, 25, 32)        0         \n",
            "_________________________________________________________________\n",
            "conv2d_10 (Conv2D)           (None, 25, 25, 64)        18496     \n",
            "_________________________________________________________________\n",
            "average_pooling2d_2 (Average (None, 13, 13, 64)        0         \n",
            "_________________________________________________________________\n",
            "global_average_pooling2d (Gl (None, 64)                0         \n",
            "_________________________________________________________________\n",
            "flatten_2 (Flatten)          (None, 64)                0         \n",
            "_________________________________________________________________\n",
            "dense_7 (Dense)              (None, 512)               33280     \n",
            "_________________________________________________________________\n",
            "dense_8 (Dense)              (None, 256)               131328    \n",
            "_________________________________________________________________\n",
            "dense_9 (Dense)              (None, 1)                 257       \n",
            "=================================================================\n",
            "Total params: 188,449\n",
            "Trainable params: 188,449\n",
            "Non-trainable params: 0\n",
            "_________________________________________________________________\n",
            "None\n"
          ]
        }
      ]
    },
    {
      "cell_type": "code",
      "metadata": {
        "id": "fDgvbfuV4g1g",
        "colab": {
          "base_uri": "https://localhost:8080/"
        },
        "outputId": "367bd46b-f987-46d9-b455-4e8bb25b3622"
      },
      "source": [
        "from tensorflow.keras.optimizers import Adam\n",
        "\n",
        "# Compile model\n",
        "model.compile(loss='binary_crossentropy',\n",
        "              optimizer=Adam(lr=0.001),\n",
        "              metrics=['acc'])"
      ],
      "execution_count": null,
      "outputs": [
        {
          "output_type": "stream",
          "name": "stderr",
          "text": [
            "/usr/local/lib/python3.7/dist-packages/keras/optimizer_v2/optimizer_v2.py:356: UserWarning: The `lr` argument is deprecated, use `learning_rate` instead.\n",
            "  \"The `lr` argument is deprecated, use `learning_rate` instead.\")\n"
          ]
        }
      ]
    },
    {
      "cell_type": "code",
      "metadata": {
        "id": "fxYbwg594rRd",
        "colab": {
          "base_uri": "https://localhost:8080/"
        },
        "outputId": "0813817e-3dca-42b4-d2b6-ebfdfc56da84"
      },
      "source": [
        "H = model.fit(x_train, y_train, batch_size=32, epochs=100, validation_data=(x_test, y_test))"
      ],
      "execution_count": null,
      "outputs": [
        {
          "output_type": "stream",
          "name": "stdout",
          "text": [
            "Epoch 1/100\n",
            "19/19 [==============================] - 6s 300ms/step - loss: 0.6954 - acc: 0.4832 - val_loss: 0.6932 - val_acc: 0.5195\n",
            "Epoch 2/100\n",
            "19/19 [==============================] - 6s 292ms/step - loss: 0.6935 - acc: 0.4782 - val_loss: 0.6932 - val_acc: 0.5000\n",
            "Epoch 3/100\n",
            "19/19 [==============================] - 6s 291ms/step - loss: 0.6932 - acc: 0.5000 - val_loss: 0.6931 - val_acc: 0.5000\n",
            "Epoch 4/100\n",
            "19/19 [==============================] - 6s 296ms/step - loss: 0.6933 - acc: 0.5000 - val_loss: 0.6931 - val_acc: 0.5000\n",
            "Epoch 5/100\n",
            "19/19 [==============================] - 6s 293ms/step - loss: 0.6932 - acc: 0.5000 - val_loss: 0.6931 - val_acc: 0.5000\n",
            "Epoch 6/100\n",
            "19/19 [==============================] - 6s 294ms/step - loss: 0.6932 - acc: 0.5000 - val_loss: 0.6931 - val_acc: 0.5000\n",
            "Epoch 7/100\n",
            "19/19 [==============================] - 6s 293ms/step - loss: 0.6932 - acc: 0.4648 - val_loss: 0.6931 - val_acc: 0.5000\n",
            "Epoch 8/100\n",
            "19/19 [==============================] - 6s 291ms/step - loss: 0.6932 - acc: 0.5000 - val_loss: 0.6931 - val_acc: 0.5000\n",
            "Epoch 9/100\n",
            "19/19 [==============================] - 6s 293ms/step - loss: 0.6930 - acc: 0.5101 - val_loss: 0.6922 - val_acc: 0.4961\n",
            "Epoch 10/100\n",
            "19/19 [==============================] - 6s 292ms/step - loss: 0.6908 - acc: 0.4966 - val_loss: 0.6860 - val_acc: 0.5430\n",
            "Epoch 11/100\n",
            "19/19 [==============================] - 6s 293ms/step - loss: 0.6890 - acc: 0.5604 - val_loss: 0.6811 - val_acc: 0.5234\n",
            "Epoch 12/100\n",
            "19/19 [==============================] - 6s 293ms/step - loss: 0.6862 - acc: 0.5570 - val_loss: 0.6783 - val_acc: 0.6055\n",
            "Epoch 13/100\n",
            "19/19 [==============================] - 6s 293ms/step - loss: 0.6864 - acc: 0.5369 - val_loss: 0.6801 - val_acc: 0.5312\n",
            "Epoch 14/100\n",
            "19/19 [==============================] - 5s 290ms/step - loss: 0.6832 - acc: 0.5604 - val_loss: 0.6762 - val_acc: 0.6250\n",
            "Epoch 15/100\n",
            "19/19 [==============================] - 6s 295ms/step - loss: 0.6822 - acc: 0.5721 - val_loss: 0.6729 - val_acc: 0.6172\n",
            "Epoch 16/100\n",
            "19/19 [==============================] - 6s 293ms/step - loss: 0.6772 - acc: 0.5738 - val_loss: 0.6784 - val_acc: 0.5703\n",
            "Epoch 17/100\n",
            "19/19 [==============================] - 6s 295ms/step - loss: 0.6811 - acc: 0.5638 - val_loss: 0.6728 - val_acc: 0.5586\n",
            "Epoch 18/100\n",
            "19/19 [==============================] - 6s 294ms/step - loss: 0.6849 - acc: 0.5621 - val_loss: 0.6746 - val_acc: 0.5742\n",
            "Epoch 19/100\n",
            "19/19 [==============================] - 6s 292ms/step - loss: 0.6746 - acc: 0.6074 - val_loss: 0.6673 - val_acc: 0.5859\n",
            "Epoch 20/100\n",
            "19/19 [==============================] - 6s 293ms/step - loss: 0.6768 - acc: 0.5772 - val_loss: 0.6655 - val_acc: 0.6094\n",
            "Epoch 21/100\n",
            "19/19 [==============================] - 6s 294ms/step - loss: 0.6716 - acc: 0.5990 - val_loss: 0.6772 - val_acc: 0.5703\n",
            "Epoch 22/100\n",
            "19/19 [==============================] - 6s 292ms/step - loss: 0.6762 - acc: 0.5738 - val_loss: 0.6694 - val_acc: 0.5977\n",
            "Epoch 23/100\n",
            "19/19 [==============================] - 6s 295ms/step - loss: 0.6698 - acc: 0.5990 - val_loss: 0.6636 - val_acc: 0.6211\n",
            "Epoch 24/100\n",
            "19/19 [==============================] - 6s 292ms/step - loss: 0.6689 - acc: 0.5906 - val_loss: 0.6650 - val_acc: 0.6016\n",
            "Epoch 25/100\n",
            "19/19 [==============================] - 6s 293ms/step - loss: 0.6682 - acc: 0.5990 - val_loss: 0.6663 - val_acc: 0.6016\n",
            "Epoch 26/100\n",
            "19/19 [==============================] - 6s 295ms/step - loss: 0.6674 - acc: 0.6007 - val_loss: 0.6705 - val_acc: 0.6055\n",
            "Epoch 27/100\n",
            "19/19 [==============================] - 6s 294ms/step - loss: 0.6696 - acc: 0.5956 - val_loss: 0.6673 - val_acc: 0.5977\n",
            "Epoch 28/100\n",
            "19/19 [==============================] - 6s 294ms/step - loss: 0.6747 - acc: 0.5856 - val_loss: 0.6662 - val_acc: 0.6016\n",
            "Epoch 29/100\n",
            "19/19 [==============================] - 6s 295ms/step - loss: 0.6635 - acc: 0.5990 - val_loss: 0.6647 - val_acc: 0.6016\n",
            "Epoch 30/100\n",
            "19/19 [==============================] - 6s 296ms/step - loss: 0.6652 - acc: 0.6208 - val_loss: 0.6706 - val_acc: 0.6172\n",
            "Epoch 31/100\n",
            "19/19 [==============================] - 6s 294ms/step - loss: 0.6668 - acc: 0.5940 - val_loss: 0.6678 - val_acc: 0.6094\n",
            "Epoch 32/100\n",
            "19/19 [==============================] - 6s 294ms/step - loss: 0.6645 - acc: 0.6057 - val_loss: 0.6660 - val_acc: 0.5977\n",
            "Epoch 33/100\n",
            "19/19 [==============================] - 6s 292ms/step - loss: 0.6595 - acc: 0.6107 - val_loss: 0.6654 - val_acc: 0.5938\n",
            "Epoch 34/100\n",
            "19/19 [==============================] - 6s 295ms/step - loss: 0.6562 - acc: 0.6158 - val_loss: 0.6753 - val_acc: 0.6055\n",
            "Epoch 35/100\n",
            "19/19 [==============================] - 6s 296ms/step - loss: 0.6566 - acc: 0.6174 - val_loss: 0.6635 - val_acc: 0.5977\n",
            "Epoch 36/100\n",
            "19/19 [==============================] - 6s 295ms/step - loss: 0.6500 - acc: 0.6242 - val_loss: 0.6640 - val_acc: 0.6055\n",
            "Epoch 37/100\n",
            "19/19 [==============================] - 6s 293ms/step - loss: 0.6512 - acc: 0.6057 - val_loss: 0.6684 - val_acc: 0.6094\n",
            "Epoch 38/100\n",
            "19/19 [==============================] - 6s 294ms/step - loss: 0.6515 - acc: 0.6292 - val_loss: 0.6622 - val_acc: 0.6055\n",
            "Epoch 39/100\n",
            "19/19 [==============================] - 6s 295ms/step - loss: 0.6492 - acc: 0.6376 - val_loss: 0.6624 - val_acc: 0.5586\n",
            "Epoch 40/100\n",
            "19/19 [==============================] - 6s 295ms/step - loss: 0.6442 - acc: 0.6225 - val_loss: 0.6703 - val_acc: 0.6094\n",
            "Epoch 41/100\n",
            "19/19 [==============================] - 6s 295ms/step - loss: 0.6419 - acc: 0.6426 - val_loss: 0.6694 - val_acc: 0.6094\n",
            "Epoch 42/100\n",
            "19/19 [==============================] - 6s 295ms/step - loss: 0.6385 - acc: 0.6309 - val_loss: 0.6771 - val_acc: 0.5781\n",
            "Epoch 43/100\n",
            "19/19 [==============================] - 6s 293ms/step - loss: 0.6401 - acc: 0.6292 - val_loss: 0.6612 - val_acc: 0.5859\n",
            "Epoch 44/100\n",
            "19/19 [==============================] - 6s 293ms/step - loss: 0.6280 - acc: 0.6493 - val_loss: 0.6822 - val_acc: 0.5898\n",
            "Epoch 45/100\n",
            "19/19 [==============================] - 6s 293ms/step - loss: 0.6272 - acc: 0.6560 - val_loss: 0.6807 - val_acc: 0.5703\n",
            "Epoch 46/100\n",
            "19/19 [==============================] - 6s 293ms/step - loss: 0.6427 - acc: 0.6342 - val_loss: 0.6614 - val_acc: 0.5938\n",
            "Epoch 47/100\n",
            "19/19 [==============================] - 6s 293ms/step - loss: 0.6326 - acc: 0.6342 - val_loss: 0.6542 - val_acc: 0.5938\n",
            "Epoch 48/100\n",
            "19/19 [==============================] - 6s 297ms/step - loss: 0.6190 - acc: 0.6460 - val_loss: 0.6646 - val_acc: 0.6211\n",
            "Epoch 49/100\n",
            "19/19 [==============================] - 6s 295ms/step - loss: 0.6174 - acc: 0.6577 - val_loss: 0.6845 - val_acc: 0.5703\n",
            "Epoch 50/100\n",
            "19/19 [==============================] - 6s 295ms/step - loss: 0.6076 - acc: 0.6644 - val_loss: 0.6584 - val_acc: 0.6094\n",
            "Epoch 51/100\n",
            "19/19 [==============================] - 6s 294ms/step - loss: 0.6163 - acc: 0.6611 - val_loss: 0.6951 - val_acc: 0.6211\n",
            "Epoch 52/100\n",
            "19/19 [==============================] - 6s 294ms/step - loss: 0.6103 - acc: 0.6628 - val_loss: 0.6625 - val_acc: 0.6016\n",
            "Epoch 53/100\n",
            "19/19 [==============================] - 6s 296ms/step - loss: 0.6042 - acc: 0.6426 - val_loss: 0.6612 - val_acc: 0.6016\n",
            "Epoch 54/100\n",
            "19/19 [==============================] - 6s 294ms/step - loss: 0.6275 - acc: 0.6409 - val_loss: 0.7098 - val_acc: 0.6328\n",
            "Epoch 55/100\n",
            "19/19 [==============================] - 6s 293ms/step - loss: 0.5981 - acc: 0.6879 - val_loss: 0.6744 - val_acc: 0.5859\n",
            "Epoch 56/100\n",
            "19/19 [==============================] - 6s 295ms/step - loss: 0.6093 - acc: 0.6695 - val_loss: 0.6926 - val_acc: 0.6016\n",
            "Epoch 57/100\n",
            "19/19 [==============================] - 6s 294ms/step - loss: 0.6255 - acc: 0.6342 - val_loss: 0.6704 - val_acc: 0.6406\n",
            "Epoch 58/100\n",
            "19/19 [==============================] - 6s 293ms/step - loss: 0.5995 - acc: 0.6711 - val_loss: 0.6820 - val_acc: 0.6250\n",
            "Epoch 59/100\n",
            "19/19 [==============================] - 6s 298ms/step - loss: 0.5887 - acc: 0.6829 - val_loss: 0.6867 - val_acc: 0.6367\n",
            "Epoch 60/100\n",
            "19/19 [==============================] - 6s 295ms/step - loss: 0.5862 - acc: 0.6812 - val_loss: 0.6797 - val_acc: 0.6094\n",
            "Epoch 61/100\n",
            "19/19 [==============================] - 6s 294ms/step - loss: 0.5939 - acc: 0.6795 - val_loss: 0.6899 - val_acc: 0.5820\n",
            "Epoch 62/100\n",
            "19/19 [==============================] - 6s 293ms/step - loss: 0.5784 - acc: 0.6997 - val_loss: 0.6826 - val_acc: 0.6406\n",
            "Epoch 63/100\n",
            "19/19 [==============================] - 6s 293ms/step - loss: 0.5950 - acc: 0.6779 - val_loss: 0.6621 - val_acc: 0.6211\n",
            "Epoch 64/100\n",
            "19/19 [==============================] - 6s 292ms/step - loss: 0.5919 - acc: 0.6862 - val_loss: 0.6818 - val_acc: 0.6094\n",
            "Epoch 65/100\n",
            "19/19 [==============================] - 6s 293ms/step - loss: 0.5798 - acc: 0.6812 - val_loss: 0.6812 - val_acc: 0.5898\n",
            "Epoch 66/100\n",
            "19/19 [==============================] - 6s 294ms/step - loss: 0.5667 - acc: 0.7064 - val_loss: 0.6878 - val_acc: 0.6445\n",
            "Epoch 67/100\n",
            "19/19 [==============================] - 6s 293ms/step - loss: 0.5636 - acc: 0.7081 - val_loss: 0.7426 - val_acc: 0.6250\n",
            "Epoch 68/100\n",
            "19/19 [==============================] - 6s 295ms/step - loss: 0.5796 - acc: 0.6913 - val_loss: 0.6792 - val_acc: 0.6445\n",
            "Epoch 69/100\n",
            "19/19 [==============================] - 6s 294ms/step - loss: 0.5785 - acc: 0.6896 - val_loss: 0.6860 - val_acc: 0.5898\n",
            "Epoch 70/100\n",
            "19/19 [==============================] - 5s 290ms/step - loss: 0.5689 - acc: 0.7081 - val_loss: 0.7043 - val_acc: 0.5898\n",
            "Epoch 71/100\n",
            "19/19 [==============================] - 6s 293ms/step - loss: 0.5643 - acc: 0.7047 - val_loss: 0.6875 - val_acc: 0.6094\n",
            "Epoch 72/100\n",
            "19/19 [==============================] - 6s 294ms/step - loss: 0.5629 - acc: 0.6997 - val_loss: 0.6829 - val_acc: 0.6406\n",
            "Epoch 73/100\n",
            "19/19 [==============================] - 6s 292ms/step - loss: 0.5535 - acc: 0.7148 - val_loss: 0.7008 - val_acc: 0.6094\n",
            "Epoch 74/100\n",
            "19/19 [==============================] - 6s 294ms/step - loss: 0.5435 - acc: 0.7131 - val_loss: 0.7721 - val_acc: 0.6445\n",
            "Epoch 75/100\n",
            "19/19 [==============================] - 6s 293ms/step - loss: 0.5590 - acc: 0.7064 - val_loss: 0.7110 - val_acc: 0.6133\n",
            "Epoch 76/100\n",
            "19/19 [==============================] - 6s 293ms/step - loss: 0.5443 - acc: 0.7181 - val_loss: 0.6969 - val_acc: 0.6172\n",
            "Epoch 77/100\n",
            "19/19 [==============================] - 6s 295ms/step - loss: 0.5326 - acc: 0.7299 - val_loss: 0.7349 - val_acc: 0.5977\n",
            "Epoch 78/100\n",
            "19/19 [==============================] - 6s 296ms/step - loss: 0.5366 - acc: 0.7315 - val_loss: 0.7048 - val_acc: 0.5938\n",
            "Epoch 79/100\n",
            "19/19 [==============================] - 6s 293ms/step - loss: 0.5491 - acc: 0.7047 - val_loss: 0.6920 - val_acc: 0.6094\n",
            "Epoch 80/100\n",
            "19/19 [==============================] - 6s 294ms/step - loss: 0.5316 - acc: 0.7315 - val_loss: 0.7316 - val_acc: 0.5938\n",
            "Epoch 81/100\n",
            "19/19 [==============================] - 6s 292ms/step - loss: 0.5537 - acc: 0.7198 - val_loss: 0.7094 - val_acc: 0.6016\n",
            "Epoch 82/100\n",
            "19/19 [==============================] - 6s 293ms/step - loss: 0.5362 - acc: 0.7181 - val_loss: 0.7006 - val_acc: 0.6484\n",
            "Epoch 83/100\n",
            "19/19 [==============================] - 6s 297ms/step - loss: 0.5275 - acc: 0.7282 - val_loss: 0.7793 - val_acc: 0.6016\n",
            "Epoch 84/100\n",
            "19/19 [==============================] - 6s 294ms/step - loss: 0.5743 - acc: 0.7030 - val_loss: 0.7390 - val_acc: 0.5352\n",
            "Epoch 85/100\n",
            "19/19 [==============================] - 6s 295ms/step - loss: 0.5571 - acc: 0.7282 - val_loss: 0.7280 - val_acc: 0.6016\n",
            "Epoch 86/100\n",
            "19/19 [==============================] - 6s 298ms/step - loss: 0.5388 - acc: 0.7248 - val_loss: 0.7428 - val_acc: 0.5859\n",
            "Epoch 87/100\n",
            "19/19 [==============================] - 6s 293ms/step - loss: 0.5446 - acc: 0.7383 - val_loss: 0.7129 - val_acc: 0.5898\n",
            "Epoch 88/100\n",
            "19/19 [==============================] - 6s 294ms/step - loss: 0.5280 - acc: 0.7315 - val_loss: 0.6819 - val_acc: 0.6445\n",
            "Epoch 89/100\n",
            "19/19 [==============================] - 6s 295ms/step - loss: 0.5224 - acc: 0.7282 - val_loss: 0.6988 - val_acc: 0.6289\n",
            "Epoch 90/100\n",
            "19/19 [==============================] - 6s 292ms/step - loss: 0.5469 - acc: 0.7248 - val_loss: 0.7065 - val_acc: 0.6445\n",
            "Epoch 91/100\n",
            "19/19 [==============================] - 6s 293ms/step - loss: 0.5326 - acc: 0.7315 - val_loss: 0.7093 - val_acc: 0.6172\n",
            "Epoch 92/100\n",
            "19/19 [==============================] - 6s 293ms/step - loss: 0.5217 - acc: 0.7416 - val_loss: 0.7079 - val_acc: 0.6367\n",
            "Epoch 93/100\n",
            "19/19 [==============================] - 6s 296ms/step - loss: 0.5208 - acc: 0.7517 - val_loss: 0.7197 - val_acc: 0.6133\n",
            "Epoch 94/100\n",
            "19/19 [==============================] - 6s 295ms/step - loss: 0.5074 - acc: 0.7466 - val_loss: 0.7267 - val_acc: 0.6172\n",
            "Epoch 95/100\n",
            "19/19 [==============================] - 6s 296ms/step - loss: 0.4914 - acc: 0.7567 - val_loss: 0.7317 - val_acc: 0.6250\n",
            "Epoch 96/100\n",
            "19/19 [==============================] - 6s 293ms/step - loss: 0.4963 - acc: 0.7685 - val_loss: 0.7237 - val_acc: 0.6367\n",
            "Epoch 97/100\n",
            "19/19 [==============================] - 6s 294ms/step - loss: 0.4829 - acc: 0.7768 - val_loss: 0.7437 - val_acc: 0.6406\n",
            "Epoch 98/100\n",
            "19/19 [==============================] - 6s 293ms/step - loss: 0.4993 - acc: 0.7768 - val_loss: 0.7127 - val_acc: 0.6328\n",
            "Epoch 99/100\n",
            "19/19 [==============================] - 6s 294ms/step - loss: 0.4904 - acc: 0.7584 - val_loss: 0.7077 - val_acc: 0.6484\n",
            "Epoch 100/100\n",
            "19/19 [==============================] - 6s 295ms/step - loss: 0.4763 - acc: 0.7701 - val_loss: 0.7484 - val_acc: 0.6602\n"
          ]
        }
      ]
    },
    {
      "cell_type": "code",
      "metadata": {
        "id": "bIu7sHFY7Xra"
      },
      "source": [
        "del model"
      ],
      "execution_count": null,
      "outputs": []
    },
    {
      "cell_type": "code",
      "metadata": {
        "colab": {
          "base_uri": "https://localhost:8080/"
        },
        "id": "JWaDn5mjwaIo",
        "outputId": "c88caf92-1ae5-41e7-a48d-d7d6b0a6861c"
      },
      "source": [
        "loss, acc = model.evaluate(x_test, y_test, verbose=2)\n",
        "print(\"Untrained model, accuracy: {:5.2f}%\".format(100 * acc))\n"
      ],
      "execution_count": null,
      "outputs": [
        {
          "output_type": "stream",
          "name": "stdout",
          "text": [
            "8/8 - 1s - loss: 0.7484 - acc: 0.6602\n",
            "Untrained model, accuracy: 66.02%\n"
          ]
        }
      ]
    },
    {
      "cell_type": "code",
      "metadata": {
        "colab": {
          "base_uri": "https://localhost:8080/",
          "height": 299
        },
        "id": "76xoeYPVrcjv",
        "outputId": "831718c4-852e-44e1-de82-4bbd9cbfb4f7"
      },
      "source": [
        "%matplotlib inline\n",
        "\n",
        "import matplotlib.pyplot as plt\n",
        "\n",
        "plt.style.use(\"ggplot\")\n",
        "plt.figure()\n",
        "plt.plot(np.arange(0, 100), H.history[\"loss\"], label=\"train_loss\")\n",
        "plt.plot(np.arange(0, 100), H.history[\"val_loss\"], label=\"val_loss\")\n",
        "plt.title(\"Loss Plot\")\n",
        "plt.xlabel(\"Epoch #\")\n",
        "plt.ylabel(\"Loss\")\n",
        "plt.legend()\n",
        "plt.show()"
      ],
      "execution_count": null,
      "outputs": [
        {
          "output_type": "display_data",
          "data": {
            "image/png": "[encoded data removed]",
            "text/plain": [
              "<Figure size 432x288 with 1 Axes>"
            ]
          },
          "metadata": {}
        }
      ]
    },
    {
      "cell_type": "code",
      "metadata": {
        "colab": {
          "base_uri": "https://localhost:8080/",
          "height": 299
        },
        "id": "TFnC44tcrgUP",
        "outputId": "1d59dfd9-eaec-40cb-931f-d3b288e731e0"
      },
      "source": [
        "plt.style.use(\"ggplot\")\n",
        "plt.figure()\n",
        "plt.plot(np.arange(0, 100), H.history[\"acc\"], label=\"train_acc\")\n",
        "plt.plot(np.arange(0, 100), H.history[\"val_acc\"], label=\"val_acc\")\n",
        "plt.title(\"Accuracy Plot\")\n",
        "plt.xlabel(\"Epoch #\")\n",
        "plt.ylabel(\"Acc\")\n",
        "plt.legend()\n",
        "plt.show()"
      ],
      "execution_count": null,
      "outputs": [
        {
          "output_type": "display_data",
          "data": {
            "image/png": "[encoded data removed]",
            "text/plain": [
              "<Figure size 432x288 with 1 Axes>"
            ]
          },
          "metadata": {}
        }
      ]
    },
    {
      "cell_type": "code",
      "metadata": {
        "id": "AT0XWxyPwma9"
      },
      "source": [
        "model.save(\"CNNModel2.h5\")"
      ],
      "execution_count": null,
      "outputs": []
    },
    {
      "cell_type": "markdown",
      "metadata": {
        "id": "icsg44Wr4gty"
      },
      "source": [
        ""
      ]
    }
  ]
}
