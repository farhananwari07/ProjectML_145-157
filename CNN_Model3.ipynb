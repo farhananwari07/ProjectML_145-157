{
  "nbformat": 4,
  "nbformat_minor": 0,
  "metadata": {
    "colab": {
      "name": "CNN_Model3.ipynb",
      "provenance": [],
      "collapsed_sections": [],
      "mount_file_id": "1pcoSzIYpbSKN5FeHX9ozIRW2R6eABXRm",
      "authorship_tag": "ABX9TyNdSobak/ZUQHlECsLgTNSh",
      "include_colab_link": true
    },
    "kernelspec": {
      "name": "python3",
      "display_name": "Python 3"
    },
    "language_info": {
      "name": "python"
    }
  },
  "cells": [
    {
      "cell_type": "markdown",
      "metadata": {
        "id": "view-in-github",
        "colab_type": "text"
      },
      "source": [
        "<a href=\"https://colab.research.google.com/github/farhananwari07/ProjectML_145-157/blob/main/CNN_Model3.ipynb\" target=\"_parent\"><img src=\"https://colab.research.google.com/assets/colab-badge.svg\" alt=\"Open In Colab\"/></a>"
      ]
    },
    {
      "cell_type": "markdown",
      "metadata": {
        "id": "a4xekTY50sJs"
      },
      "source": [
        "# Library\n"
      ]
    },
    {
      "cell_type": "code",
      "metadata": {
        "id": "0NX43Fwgnfia"
      },
      "source": [
        "import numpy as np"
      ],
      "execution_count": null,
      "outputs": []
    },
    {
      "cell_type": "code",
      "metadata": {
        "id": "Nf44NQnb0lf6"
      },
      "source": [
        "import warnings\n",
        "warnings.filterwarnings(\"ignore\")"
      ],
      "execution_count": null,
      "outputs": []
    },
    {
      "cell_type": "code",
      "metadata": {
        "colab": {
          "base_uri": "https://localhost:8080/"
        },
        "id": "Lh3obnJtpCR3",
        "outputId": "2225e647-4052-49f9-ee68-e9284f8fc5e0"
      },
      "source": [
        "%cd /content/drive/MyDrive/Praktikum Kelompok_1/datagen"
      ],
      "execution_count": null,
      "outputs": [
        {
          "output_type": "stream",
          "name": "stdout",
          "text": [
            "/content/drive/MyDrive/Praktikum Kelompok_1/datagen\n"
          ]
        }
      ]
    },
    {
      "cell_type": "markdown",
      "metadata": {
        "id": "PBOWq39W0yI_"
      },
      "source": [
        "# Main"
      ]
    },
    {
      "cell_type": "code",
      "metadata": {
        "id": "8hpKaWzLo__D"
      },
      "source": [
        "x_train = np.load(\"Copy of xtrain64.npy\")\n",
        "x_test = np.load(\"Copy of xval64.npy\")\n",
        "y_train = np.load(\"Copy of ytrain64.npy\")\n",
        "y_test = np.load(\"Copy of yval64.npy\")"
      ],
      "execution_count": null,
      "outputs": []
    },
    {
      "cell_type": "code",
      "metadata": {
        "id": "WXOTgvSXpcf1"
      },
      "source": [
        "from tensorflow.keras.models import Sequential\n",
        "from tensorflow.keras.layers import InputLayer, Dense, Conv2D, MaxPool2D, Flatten, Dropout, GlobalMaxPool2D, AveragePooling2D, GlobalAveragePooling2D,BatchNormalization, Activation"
      ],
      "execution_count": null,
      "outputs": []
    },
    {
      "cell_type": "code",
      "metadata": {
        "id": "7T3LgAWZeNAw"
      },
      "source": [
        "'''\n",
        "img_rows,img_cols=120,120\n",
        "model = Sequential([Conv2D(filters=16, kernel_size=(3,3), padding='same', activation='relu', \n",
        "                    input_shape=(img_rows,img_cols,1)),\n",
        "                    MaxPool2D(pool_size=(2,2)),\n",
        "                    Conv2D(filters=32, kernel_size=(3,3), padding='same', activation='relu'),\n",
        "                    BatchNormalization(momentum=0.8),\n",
        "                    MaxPool2D(pool_size=(2,2)),\n",
        "                    Dropout(rate=0.25),\n",
        "                    Conv2D(filters=64, kernel_size=(3,3), padding='same',activation='relu'),\n",
        "                    BatchNormalization(momentum=0.8),\n",
        "                    MaxPool2D(pool_size=(2,2)),\n",
        "                    Conv2D(filters=128, kernel_size=(3,3), padding='same',activation='relu'),\n",
        "                    BatchNormalization(momentum=0.8),\n",
        "                    MaxPool2D(pool_size=(2,2)),\n",
        "                    Dropout(rate=0.25),\n",
        "                    GlobalMaxPool2D(),\n",
        "                    Flatten(),\n",
        "                    Dropout(rate=0.5),\n",
        "                    Dense(units=512, activation='relu'),\n",
        "                    Dense(units=1, activation='softmax')])\n",
        "'''"
      ],
      "execution_count": null,
      "outputs": []
    },
    {
      "cell_type": "code",
      "metadata": {
        "id": "7KtN9zJ0dx8s"
      },
      "source": [
        "model = Sequential()\n",
        "\n",
        "model.add(InputLayer(input_shape=[120,120,1]))\n",
        "model.add(Conv2D(filters=16, kernel_size=3, strides=1, padding='same', activation='relu'))\n",
        "model.add(BatchNormalization())\n",
        "model.add(MaxPool2D(pool_size=2, padding='same'))\n",
        "model.add(Dropout(rate=0.25))\n",
        "model.add(Conv2D(filters=32, kernel_size=3, strides=1, padding='same', activation='relu'))\n",
        "model.add(BatchNormalization())\n",
        "model.add(MaxPool2D(pool_size=2, padding='same'))\n",
        "model.add(Dropout(rate=0.25))\n",
        "\n",
        "model.add(GlobalMaxPool2D())\n",
        "model.add(Flatten())\n",
        "\n",
        "# Fully Connected Layer\n",
        "model.add(Dense(256, activation='relu'))\n",
        "model.add(Dense(1, activation='sigmoid'))\n",
        "\n"
      ],
      "execution_count": null,
      "outputs": []
    },
    {
      "cell_type": "code",
      "metadata": {
        "id": "7Tp_tzb9yhiq"
      },
      "source": [
        "del model"
      ],
      "execution_count": null,
      "outputs": []
    },
    {
      "cell_type": "code",
      "metadata": {
        "colab": {
          "base_uri": "https://localhost:8080/"
        },
        "id": "fYVApMfPpfWF",
        "outputId": "b57b4854-3e89-417a-c1a9-93f610ef8ce7"
      },
      "source": [
        "model.summary()"
      ],
      "execution_count": null,
      "outputs": [
        {
          "output_type": "stream",
          "name": "stdout",
          "text": [
            "Model: \"sequential\"\n",
            "_________________________________________________________________\n",
            "Layer (type)                 Output Shape              Param #   \n",
            "=================================================================\n",
            "conv2d (Conv2D)              (None, 120, 120, 16)      160       \n",
            "_________________________________________________________________\n",
            "batch_normalization (BatchNo (None, 120, 120, 16)      64        \n",
            "_________________________________________________________________\n",
            "max_pooling2d (MaxPooling2D) (None, 60, 60, 16)        0         \n",
            "_________________________________________________________________\n",
            "dropout (Dropout)            (None, 60, 60, 16)        0         \n",
            "_________________________________________________________________\n",
            "conv2d_1 (Conv2D)            (None, 60, 60, 32)        4640      \n",
            "_________________________________________________________________\n",
            "batch_normalization_1 (Batch (None, 60, 60, 32)        128       \n",
            "_________________________________________________________________\n",
            "max_pooling2d_1 (MaxPooling2 (None, 30, 30, 32)        0         \n",
            "_________________________________________________________________\n",
            "dropout_1 (Dropout)          (None, 30, 30, 32)        0         \n",
            "_________________________________________________________________\n",
            "global_max_pooling2d (Global (None, 32)                0         \n",
            "_________________________________________________________________\n",
            "flatten (Flatten)            (None, 32)                0         \n",
            "_________________________________________________________________\n",
            "dense (Dense)                (None, 256)               8448      \n",
            "_________________________________________________________________\n",
            "dense_1 (Dense)              (None, 1)                 257       \n",
            "=================================================================\n",
            "Total params: 13,697\n",
            "Trainable params: 13,601\n",
            "Non-trainable params: 96\n",
            "_________________________________________________________________\n"
          ]
        }
      ]
    },
    {
      "cell_type": "code",
      "metadata": {
        "colab": {
          "base_uri": "https://localhost:8080/"
        },
        "id": "OKfHMepFphi1",
        "outputId": "f398a100-da82-42cf-b7d7-f60c2dca5f14"
      },
      "source": [
        "from tensorflow.keras.optimizers import Adam\n",
        "\n",
        "# Compile model\n",
        "model.compile(loss='binary_crossentropy',\n",
        "              optimizer=Adam(lr=0.001),\n",
        "              metrics=['acc'])"
      ],
      "execution_count": null,
      "outputs": [
        {
          "output_type": "stream",
          "name": "stderr",
          "text": [
            "/usr/local/lib/python3.7/dist-packages/keras/optimizer_v2/optimizer_v2.py:356: UserWarning: The `lr` argument is deprecated, use `learning_rate` instead.\n",
            "  \"The `lr` argument is deprecated, use `learning_rate` instead.\")\n"
          ]
        }
      ]
    },
    {
      "cell_type": "code",
      "metadata": {
        "colab": {
          "base_uri": "https://localhost:8080/"
        },
        "id": "15VB4EHEplFm",
        "outputId": "a9bb8b83-650d-4017-ee9f-225247c6e5b4"
      },
      "source": [
        "H = model.fit(x_train,y_train, batch_size=32, epochs=100, validation_data=(x_test,y_test))"
      ],
      "execution_count": null,
      "outputs": [
        {
          "output_type": "stream",
          "name": "stdout",
          "text": [
            "Epoch 1/100\n",
            "19/19 [==============================] - 94s 5s/step - loss: 0.9367 - acc: 0.5084 - val_loss: 0.6937 - val_acc: 0.5000\n",
            "Epoch 2/100\n",
            "19/19 [==============================] - 90s 5s/step - loss: 0.7904 - acc: 0.4866 - val_loss: 0.6926 - val_acc: 0.5000\n",
            "Epoch 3/100\n",
            "19/19 [==============================] - 90s 5s/step - loss: 0.7154 - acc: 0.5134 - val_loss: 0.6939 - val_acc: 0.5000\n",
            "Epoch 4/100\n",
            "19/19 [==============================] - 90s 5s/step - loss: 0.7437 - acc: 0.4732 - val_loss: 0.6943 - val_acc: 0.5000\n",
            "Epoch 5/100\n",
            "19/19 [==============================] - 90s 5s/step - loss: 0.7010 - acc: 0.5403 - val_loss: 0.6941 - val_acc: 0.5000\n",
            "Epoch 6/100\n",
            "19/19 [==============================] - 90s 5s/step - loss: 0.7256 - acc: 0.5000 - val_loss: 0.6933 - val_acc: 0.5000\n",
            "Epoch 7/100\n",
            "19/19 [==============================] - 90s 5s/step - loss: 0.7164 - acc: 0.5235 - val_loss: 0.6931 - val_acc: 0.5000\n",
            "Epoch 8/100\n",
            "19/19 [==============================] - 90s 5s/step - loss: 0.7209 - acc: 0.4899 - val_loss: 0.6922 - val_acc: 0.5039\n",
            "Epoch 9/100\n",
            "19/19 [==============================] - 90s 5s/step - loss: 0.7073 - acc: 0.5101 - val_loss: 0.6936 - val_acc: 0.5000\n",
            "Epoch 10/100\n",
            "19/19 [==============================] - 90s 5s/step - loss: 0.7041 - acc: 0.5268 - val_loss: 0.6929 - val_acc: 0.5000\n",
            "Epoch 11/100\n",
            "19/19 [==============================] - 90s 5s/step - loss: 0.7143 - acc: 0.4933 - val_loss: 0.6921 - val_acc: 0.5078\n",
            "Epoch 12/100\n",
            "19/19 [==============================] - 90s 5s/step - loss: 0.7084 - acc: 0.5235 - val_loss: 0.6946 - val_acc: 0.5000\n",
            "Epoch 13/100\n",
            "19/19 [==============================] - 90s 5s/step - loss: 0.7139 - acc: 0.5067 - val_loss: 0.6942 - val_acc: 0.5000\n",
            "Epoch 14/100\n",
            "19/19 [==============================] - 90s 5s/step - loss: 0.7029 - acc: 0.5117 - val_loss: 0.6955 - val_acc: 0.5039\n",
            "Epoch 15/100\n",
            "19/19 [==============================] - 90s 5s/step - loss: 0.6996 - acc: 0.5017 - val_loss: 0.6947 - val_acc: 0.5000\n",
            "Epoch 16/100\n",
            "19/19 [==============================] - 90s 5s/step - loss: 0.7016 - acc: 0.5000 - val_loss: 0.6982 - val_acc: 0.5000\n",
            "Epoch 17/100\n",
            "19/19 [==============================] - 90s 5s/step - loss: 0.7041 - acc: 0.5470 - val_loss: 0.7006 - val_acc: 0.5039\n",
            "Epoch 18/100\n",
            "19/19 [==============================] - 90s 5s/step - loss: 0.6933 - acc: 0.5403 - val_loss: 0.7006 - val_acc: 0.5039\n",
            "Epoch 19/100\n",
            "19/19 [==============================] - 90s 5s/step - loss: 0.7034 - acc: 0.5017 - val_loss: 0.6983 - val_acc: 0.5000\n",
            "Epoch 20/100\n",
            "19/19 [==============================] - 90s 5s/step - loss: 0.7013 - acc: 0.5084 - val_loss: 0.6985 - val_acc: 0.5000\n",
            "Epoch 21/100\n",
            "19/19 [==============================] - 90s 5s/step - loss: 0.7019 - acc: 0.5386 - val_loss: 0.6932 - val_acc: 0.5039\n",
            "Epoch 22/100\n",
            "19/19 [==============================] - 90s 5s/step - loss: 0.6948 - acc: 0.5369 - val_loss: 0.6920 - val_acc: 0.4961\n",
            "Epoch 23/100\n",
            "19/19 [==============================] - 90s 5s/step - loss: 0.7030 - acc: 0.5101 - val_loss: 0.6865 - val_acc: 0.5234\n",
            "Epoch 24/100\n",
            "19/19 [==============================] - 90s 5s/step - loss: 0.7375 - acc: 0.5285 - val_loss: 0.6962 - val_acc: 0.5000\n",
            "Epoch 25/100\n",
            "19/19 [==============================] - 90s 5s/step - loss: 0.7006 - acc: 0.5285 - val_loss: 0.6868 - val_acc: 0.5625\n",
            "Epoch 26/100\n",
            "19/19 [==============================] - 90s 5s/step - loss: 0.7104 - acc: 0.5537 - val_loss: 0.6952 - val_acc: 0.5000\n",
            "Epoch 27/100\n",
            "19/19 [==============================] - 90s 5s/step - loss: 0.6894 - acc: 0.5554 - val_loss: 0.6843 - val_acc: 0.5977\n",
            "Epoch 28/100\n",
            "19/19 [==============================] - 90s 5s/step - loss: 0.6878 - acc: 0.5604 - val_loss: 0.6857 - val_acc: 0.5312\n",
            "Epoch 29/100\n",
            "19/19 [==============================] - 90s 5s/step - loss: 0.6974 - acc: 0.5570 - val_loss: 0.6872 - val_acc: 0.5039\n",
            "Epoch 30/100\n",
            "19/19 [==============================] - 90s 5s/step - loss: 0.7187 - acc: 0.5235 - val_loss: 0.6967 - val_acc: 0.4883\n",
            "Epoch 31/100\n",
            "19/19 [==============================] - 90s 5s/step - loss: 0.6992 - acc: 0.5268 - val_loss: 0.6813 - val_acc: 0.5938\n",
            "Epoch 32/100\n",
            "19/19 [==============================] - 90s 5s/step - loss: 0.7259 - acc: 0.5319 - val_loss: 0.7010 - val_acc: 0.5000\n",
            "Epoch 33/100\n",
            "19/19 [==============================] - 90s 5s/step - loss: 0.7010 - acc: 0.5185 - val_loss: 0.6860 - val_acc: 0.4961\n",
            "Epoch 34/100\n",
            "19/19 [==============================] - 90s 5s/step - loss: 0.6868 - acc: 0.5470 - val_loss: 0.6864 - val_acc: 0.5273\n",
            "Epoch 35/100\n",
            "19/19 [==============================] - 90s 5s/step - loss: 0.6929 - acc: 0.5419 - val_loss: 0.6813 - val_acc: 0.5742\n",
            "Epoch 36/100\n",
            "19/19 [==============================] - 90s 5s/step - loss: 0.7009 - acc: 0.5453 - val_loss: 0.6913 - val_acc: 0.5039\n",
            "Epoch 37/100\n",
            "19/19 [==============================] - 90s 5s/step - loss: 0.6901 - acc: 0.5185 - val_loss: 0.6853 - val_acc: 0.5703\n",
            "Epoch 38/100\n",
            "19/19 [==============================] - 90s 5s/step - loss: 0.6982 - acc: 0.5487 - val_loss: 0.6805 - val_acc: 0.5820\n",
            "Epoch 39/100\n",
            "19/19 [==============================] - 90s 5s/step - loss: 0.6980 - acc: 0.5268 - val_loss: 0.6778 - val_acc: 0.5273\n",
            "Epoch 40/100\n",
            "19/19 [==============================] - 90s 5s/step - loss: 0.7017 - acc: 0.5101 - val_loss: 0.6838 - val_acc: 0.5312\n",
            "Epoch 41/100\n",
            "19/19 [==============================] - 90s 5s/step - loss: 0.6860 - acc: 0.5436 - val_loss: 0.6857 - val_acc: 0.5312\n",
            "Epoch 42/100\n",
            "19/19 [==============================] - 90s 5s/step - loss: 0.6941 - acc: 0.5268 - val_loss: 0.6807 - val_acc: 0.5977\n",
            "Epoch 43/100\n",
            "19/19 [==============================] - 90s 5s/step - loss: 0.7035 - acc: 0.5319 - val_loss: 0.6770 - val_acc: 0.5898\n",
            "Epoch 44/100\n",
            "19/19 [==============================] - 90s 5s/step - loss: 0.6829 - acc: 0.5520 - val_loss: 0.6915 - val_acc: 0.4805\n",
            "Epoch 45/100\n",
            "19/19 [==============================] - 91s 5s/step - loss: 0.6926 - acc: 0.5352 - val_loss: 0.6862 - val_acc: 0.5586\n",
            "Epoch 46/100\n",
            "19/19 [==============================] - 90s 5s/step - loss: 0.6997 - acc: 0.5487 - val_loss: 0.6824 - val_acc: 0.5312\n",
            "Epoch 47/100\n",
            "19/19 [==============================] - 90s 5s/step - loss: 0.7087 - acc: 0.5218 - val_loss: 0.6861 - val_acc: 0.5078\n",
            "Epoch 48/100\n",
            "19/19 [==============================] - 90s 5s/step - loss: 0.6931 - acc: 0.5336 - val_loss: 0.6746 - val_acc: 0.6055\n",
            "Epoch 49/100\n",
            "19/19 [==============================] - 90s 5s/step - loss: 0.6890 - acc: 0.5604 - val_loss: 0.6965 - val_acc: 0.5117\n",
            "Epoch 50/100\n",
            "19/19 [==============================] - 90s 5s/step - loss: 0.6985 - acc: 0.5235 - val_loss: 0.6866 - val_acc: 0.5195\n",
            "Epoch 51/100\n",
            "19/19 [==============================] - 90s 5s/step - loss: 0.7090 - acc: 0.5336 - val_loss: 0.6989 - val_acc: 0.5430\n",
            "Epoch 52/100\n",
            "19/19 [==============================] - 90s 5s/step - loss: 0.7205 - acc: 0.5386 - val_loss: 0.6804 - val_acc: 0.5742\n",
            "Epoch 53/100\n",
            "19/19 [==============================] - 90s 5s/step - loss: 0.6836 - acc: 0.5604 - val_loss: 0.6976 - val_acc: 0.5000\n",
            "Epoch 54/100\n",
            "19/19 [==============================] - 90s 5s/step - loss: 0.6855 - acc: 0.5436 - val_loss: 0.6875 - val_acc: 0.5000\n",
            "Epoch 55/100\n",
            "19/19 [==============================] - 90s 5s/step - loss: 0.6780 - acc: 0.5872 - val_loss: 0.6834 - val_acc: 0.5078\n",
            "Epoch 56/100\n",
            "19/19 [==============================] - 90s 5s/step - loss: 0.6940 - acc: 0.5419 - val_loss: 0.6837 - val_acc: 0.5469\n",
            "Epoch 57/100\n",
            "19/19 [==============================] - 90s 5s/step - loss: 0.6965 - acc: 0.5201 - val_loss: 0.7093 - val_acc: 0.4922\n",
            "Epoch 58/100\n",
            "19/19 [==============================] - 90s 5s/step - loss: 0.6849 - acc: 0.5436 - val_loss: 0.6736 - val_acc: 0.5781\n",
            "Epoch 59/100\n",
            "19/19 [==============================] - 90s 5s/step - loss: 0.6834 - acc: 0.5956 - val_loss: 0.6791 - val_acc: 0.5820\n",
            "Epoch 60/100\n",
            "19/19 [==============================] - 90s 5s/step - loss: 0.7131 - acc: 0.5386 - val_loss: 0.6743 - val_acc: 0.5977\n",
            "Epoch 61/100\n",
            "19/19 [==============================] - 90s 5s/step - loss: 0.6828 - acc: 0.5570 - val_loss: 0.6835 - val_acc: 0.5312\n",
            "Epoch 62/100\n",
            "19/19 [==============================] - 90s 5s/step - loss: 0.6881 - acc: 0.5604 - val_loss: 0.6805 - val_acc: 0.5664\n",
            "Epoch 63/100\n",
            "19/19 [==============================] - 90s 5s/step - loss: 0.7113 - acc: 0.5386 - val_loss: 0.6811 - val_acc: 0.5742\n",
            "Epoch 64/100\n",
            "19/19 [==============================] - 90s 5s/step - loss: 0.7117 - acc: 0.5101 - val_loss: 0.6837 - val_acc: 0.5078\n",
            "Epoch 65/100\n",
            "19/19 [==============================] - 90s 5s/step - loss: 0.6791 - acc: 0.5621 - val_loss: 0.6779 - val_acc: 0.5664\n",
            "Epoch 66/100\n",
            "19/19 [==============================] - 90s 5s/step - loss: 0.6730 - acc: 0.5772 - val_loss: 0.6827 - val_acc: 0.5234\n",
            "Epoch 67/100\n",
            "19/19 [==============================] - 90s 5s/step - loss: 0.6850 - acc: 0.5369 - val_loss: 0.6742 - val_acc: 0.6211\n",
            "Epoch 68/100\n",
            "19/19 [==============================] - 90s 5s/step - loss: 0.6782 - acc: 0.5671 - val_loss: 0.6874 - val_acc: 0.5898\n",
            "Epoch 69/100\n",
            "19/19 [==============================] - 90s 5s/step - loss: 0.6859 - acc: 0.5587 - val_loss: 0.6841 - val_acc: 0.5391\n",
            "Epoch 70/100\n",
            "19/19 [==============================] - 90s 5s/step - loss: 0.6959 - acc: 0.5285 - val_loss: 0.6835 - val_acc: 0.5469\n",
            "Epoch 71/100\n",
            "19/19 [==============================] - 90s 5s/step - loss: 0.6695 - acc: 0.5973 - val_loss: 0.6846 - val_acc: 0.5547\n",
            "Epoch 72/100\n",
            "19/19 [==============================] - 90s 5s/step - loss: 0.6878 - acc: 0.5705 - val_loss: 0.6717 - val_acc: 0.5938\n",
            "Epoch 73/100\n",
            "19/19 [==============================] - 90s 5s/step - loss: 0.6794 - acc: 0.5554 - val_loss: 0.6789 - val_acc: 0.5586\n",
            "Epoch 74/100\n",
            "19/19 [==============================] - 90s 5s/step - loss: 0.6798 - acc: 0.5956 - val_loss: 0.6893 - val_acc: 0.4922\n",
            "Epoch 75/100\n",
            "19/19 [==============================] - 90s 5s/step - loss: 0.7194 - acc: 0.5369 - val_loss: 0.7175 - val_acc: 0.4922\n",
            "Epoch 76/100\n",
            "19/19 [==============================] - 90s 5s/step - loss: 0.6937 - acc: 0.5587 - val_loss: 0.6745 - val_acc: 0.5820\n",
            "Epoch 77/100\n",
            "19/19 [==============================] - 90s 5s/step - loss: 0.6786 - acc: 0.5654 - val_loss: 0.6853 - val_acc: 0.5625\n",
            "Epoch 78/100\n",
            "19/19 [==============================] - 90s 5s/step - loss: 0.6827 - acc: 0.5453 - val_loss: 0.6775 - val_acc: 0.5938\n",
            "Epoch 79/100\n",
            "19/19 [==============================] - 90s 5s/step - loss: 0.7108 - acc: 0.5520 - val_loss: 0.6768 - val_acc: 0.5898\n",
            "Epoch 80/100\n",
            "19/19 [==============================] - 90s 5s/step - loss: 0.6888 - acc: 0.5453 - val_loss: 0.6833 - val_acc: 0.6055\n",
            "Epoch 81/100\n",
            "19/19 [==============================] - 90s 5s/step - loss: 0.6929 - acc: 0.5487 - val_loss: 0.6851 - val_acc: 0.5273\n",
            "Epoch 82/100\n",
            "19/19 [==============================] - 90s 5s/step - loss: 0.6732 - acc: 0.5621 - val_loss: 0.7034 - val_acc: 0.4883\n",
            "Epoch 83/100\n",
            "19/19 [==============================] - 90s 5s/step - loss: 0.6842 - acc: 0.5470 - val_loss: 0.7205 - val_acc: 0.4727\n",
            "Epoch 84/100\n",
            "19/19 [==============================] - 90s 5s/step - loss: 0.6816 - acc: 0.5654 - val_loss: 0.7174 - val_acc: 0.4844\n",
            "Epoch 85/100\n",
            "19/19 [==============================] - 90s 5s/step - loss: 0.6785 - acc: 0.5671 - val_loss: 0.7113 - val_acc: 0.4805\n",
            "Epoch 86/100\n",
            "19/19 [==============================] - 90s 5s/step - loss: 0.6769 - acc: 0.5772 - val_loss: 0.7124 - val_acc: 0.4883\n",
            "Epoch 87/100\n",
            "19/19 [==============================] - 90s 5s/step - loss: 0.6690 - acc: 0.5940 - val_loss: 0.6956 - val_acc: 0.5000\n",
            "Epoch 88/100\n",
            "19/19 [==============================] - 90s 5s/step - loss: 0.6696 - acc: 0.5805 - val_loss: 0.6884 - val_acc: 0.5273\n",
            "Epoch 89/100\n",
            "19/19 [==============================] - 90s 5s/step - loss: 0.6806 - acc: 0.5822 - val_loss: 0.7023 - val_acc: 0.5039\n",
            "Epoch 90/100\n",
            "19/19 [==============================] - 90s 5s/step - loss: 0.6837 - acc: 0.5604 - val_loss: 0.6985 - val_acc: 0.4922\n",
            "Epoch 91/100\n",
            "19/19 [==============================] - 90s 5s/step - loss: 0.6970 - acc: 0.5319 - val_loss: 0.6736 - val_acc: 0.5820\n",
            "Epoch 92/100\n",
            "19/19 [==============================] - 90s 5s/step - loss: 0.6790 - acc: 0.5352 - val_loss: 0.6735 - val_acc: 0.5703\n",
            "Epoch 93/100\n",
            "19/19 [==============================] - 90s 5s/step - loss: 0.6690 - acc: 0.5772 - val_loss: 0.6768 - val_acc: 0.5859\n",
            "Epoch 94/100\n",
            "19/19 [==============================] - 90s 5s/step - loss: 0.6706 - acc: 0.5789 - val_loss: 0.6689 - val_acc: 0.5898\n",
            "Epoch 95/100\n",
            "19/19 [==============================] - 90s 5s/step - loss: 0.6690 - acc: 0.5923 - val_loss: 0.6697 - val_acc: 0.6133\n",
            "Epoch 96/100\n",
            "19/19 [==============================] - 90s 5s/step - loss: 0.6800 - acc: 0.5604 - val_loss: 0.6726 - val_acc: 0.5938\n",
            "Epoch 97/100\n",
            "19/19 [==============================] - 90s 5s/step - loss: 0.6779 - acc: 0.5705 - val_loss: 0.6772 - val_acc: 0.5859\n",
            "Epoch 98/100\n",
            "19/19 [==============================] - 90s 5s/step - loss: 0.6981 - acc: 0.5336 - val_loss: 0.6805 - val_acc: 0.5586\n",
            "Epoch 99/100\n",
            "19/19 [==============================] - 90s 5s/step - loss: 0.6841 - acc: 0.5688 - val_loss: 0.6707 - val_acc: 0.6094\n",
            "Epoch 100/100\n",
            "19/19 [==============================] - 91s 5s/step - loss: 0.6818 - acc: 0.5487 - val_loss: 0.6833 - val_acc: 0.5508\n"
          ]
        }
      ]
    },
    {
      "cell_type": "code",
      "metadata": {
        "id": "mIFgfbh_vg1G"
      },
      "source": [
        "%matplotlib inline\n",
        "\n",
        "import matplotlib.pyplot as plt\n",
        "import matplotlib.image as mpimg\n"
      ],
      "execution_count": null,
      "outputs": []
    },
    {
      "cell_type": "code",
      "metadata": {
        "colab": {
          "base_uri": "https://localhost:8080/",
          "height": 299
        },
        "id": "oNnLxCdivh-C",
        "outputId": "0bb4d459-bf10-47d5-fbea-efcf4a56d94e"
      },
      "source": [
        "plt.style.use(\"ggplot\")\n",
        "plt.figure()\n",
        "plt.plot(np.arange(0, 100), H.history[\"loss\"], label=\"train_loss\")\n",
        "plt.plot(np.arange(0, 100), H.history[\"val_loss\"], label=\"val_loss\")\n",
        "plt.title(\"Loss Plot\")\n",
        "plt.xlabel(\"Epoch #\")\n",
        "plt.ylabel(\"Loss\")\n",
        "plt.legend()\n",
        "plt.show()"
      ],
      "execution_count": null,
      "outputs": [
        {
          "output_type": "display_data",
          "data": {
            "image/png": "[encoded data removed]",
            "text/plain": [
              "<Figure size 432x288 with 1 Axes>"
            ]
          },
          "metadata": {}
        }
      ]
    },
    {
      "cell_type": "code",
      "metadata": {
        "colab": {
          "base_uri": "https://localhost:8080/",
          "height": 299
        },
        "id": "yzMWPe-YvjZ6",
        "outputId": "6071e9d7-cac7-4a44-b571-0ce09a2df09f"
      },
      "source": [
        "plt.style.use(\"ggplot\")\n",
        "plt.figure()\n",
        "plt.plot(np.arange(0, 100), H.history[\"acc\"], label=\"train_acc\")\n",
        "plt.plot(np.arange(0, 100), H.history[\"val_acc\"], label=\"val_acc\")\n",
        "plt.title(\"Accuracy Plot\")\n",
        "plt.xlabel(\"Epoch #\")\n",
        "plt.ylabel(\"Acc\")\n",
        "plt.legend()\n",
        "plt.show()"
      ],
      "execution_count": null,
      "outputs": [
        {
          "output_type": "display_data",
          "data": {
            "image/png": "[encoded data removed]",
            "text/plain": [
              "<Figure size 432x288 with 1 Axes>"
            ]
          },
          "metadata": {}
        }
      ]
    },
    {
      "cell_type": "code",
      "metadata": {
        "colab": {
          "base_uri": "https://localhost:8080/"
        },
        "id": "a5vLnMFQvkvV",
        "outputId": "3edd798f-1b52-4d04-c6da-67f5081dc670"
      },
      "source": [
        "from sklearn.metrics import classification_report\n",
        "\n",
        "pred = model.predict(x_test)\n",
        "labels = (pred > 0.5).astype(np.int)\n",
        "\n",
        "print(classification_report(y_test, labels))"
      ],
      "execution_count": null,
      "outputs": [
        {
          "output_type": "stream",
          "name": "stdout",
          "text": [
            "WARNING:tensorflow:Model was constructed with shape (None, 100, 100, 1) for input KerasTensor(type_spec=TensorSpec(shape=(None, 100, 100, 1), dtype=tf.float32, name='input_2'), name='input_2', description=\"created by layer 'input_2'\"), but it was called on an input with incompatible shape (None, 120, 120, 1).\n",
            "              precision    recall  f1-score   support\n",
            "\n",
            "         0.0       0.49      0.94      0.65        81\n",
            "         1.0       0.38      0.04      0.07        81\n",
            "\n",
            "    accuracy                           0.49       162\n",
            "   macro avg       0.43      0.49      0.36       162\n",
            "weighted avg       0.43      0.49      0.36       162\n",
            "\n"
          ]
        }
      ]
    },
    {
      "cell_type": "code",
      "metadata": {
        "colab": {
          "base_uri": "https://localhost:8080/"
        },
        "id": "UjGj2olsJ42k",
        "outputId": "4728dc22-1425-46f4-9ce4-7d218beac418"
      },
      "source": [
        "from keras.models import model_from_json\n",
        "# serialize model to JSON\n",
        "model_json = model.to_json()\n",
        "with open(\"model3.json\", \"w\") as json_file:\n",
        "    json_file.write(model_json)\n",
        "# serialize weights to HDF5\n",
        "model.save_weights(\"model3.h5\")\n",
        "print(\"Saved model to disk\")"
      ],
      "execution_count": null,
      "outputs": [
        {
          "output_type": "stream",
          "name": "stdout",
          "text": [
            "Saved model to disk\n"
          ]
        }
      ]
    }
  ]
}