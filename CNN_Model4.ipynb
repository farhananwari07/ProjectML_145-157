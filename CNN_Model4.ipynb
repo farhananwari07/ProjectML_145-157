{
  "nbformat": 4,
  "nbformat_minor": 0,
  "metadata": {
    "colab": {
      "name": "CNN_Model4.ipynb",
      "provenance": [],
      "collapsed_sections": []
    },
    "kernelspec": {
      "name": "python3",
      "display_name": "Python 3"
    },
    "language_info": {
      "name": "python"
    }
  },
  "cells": [
    {
      "cell_type": "code",
      "metadata": {
        "colab": {
          "base_uri": "https://localhost:8080/"
        },
        "id": "H25Uz3DdLIRs",
        "outputId": "bfa648d8-93d3-4503-f5f1-6f30ec9e071b"
      },
      "source": [
        "from google.colab import drive\n",
        "drive.mount('/content/drive')"
      ],
      "execution_count": null,
      "outputs": [
        {
          "output_type": "stream",
          "name": "stdout",
          "text": [
            "Mounted at /content/drive\n"
          ]
        }
      ]
    },
    {
      "cell_type": "code",
      "metadata": {
        "id": "c3IZsMLkRFR1"
      },
      "source": [
        "import numpy as np"
      ],
      "execution_count": null,
      "outputs": []
    },
    {
      "cell_type": "code",
      "metadata": {
        "id": "Vf2j7pvrRKRT"
      },
      "source": [
        "import warnings\n",
        "warnings.filterwarnings(\"ignore\")"
      ],
      "execution_count": null,
      "outputs": []
    },
    {
      "cell_type": "code",
      "metadata": {
        "colab": {
          "base_uri": "https://localhost:8080/"
        },
        "id": "QgsCaMisRKOl",
        "outputId": "2df519df-5280-4a21-9620-1b12a702496f"
      },
      "source": [
        "%cd /content/drive/MyDrive/Semester 7/Machine Learning/File Praktikum/Data Kelompok"
      ],
      "execution_count": null,
      "outputs": [
        {
          "output_type": "stream",
          "name": "stdout",
          "text": [
            "/content/drive/MyDrive/Semester 7/Machine Learning/File Praktikum/Data Kelompok\n"
          ]
        }
      ]
    },
    {
      "cell_type": "markdown",
      "metadata": {
        "id": "38caiqHIRR9I"
      },
      "source": [
        "# Main"
      ]
    },
    {
      "cell_type": "code",
      "metadata": {
        "id": "GOgy6KF3RKLu"
      },
      "source": [
        "x_train = np.load(\"Copy of xtrain64.npy\")\n",
        "x_test = np.load(\"Copy of xval64.npy\")\n",
        "y_train = np.load(\"Copy of ytrain64.npy\")\n",
        "y_test = np.load(\"Copy of yval64.npy\")"
      ],
      "execution_count": null,
      "outputs": []
    },
    {
      "cell_type": "code",
      "metadata": {
        "id": "St_Rc-4CRKJd"
      },
      "source": [
        "from tensorflow.keras.models import Sequential\n",
        "from tensorflow.keras.layers import InputLayer, Dense, Conv2D, MaxPool2D, Flatten, Dropout, GlobalMaxPool2D, AveragePooling2D, GlobalAveragePooling2D,BatchNormalization, Activation"
      ],
      "execution_count": null,
      "outputs": []
    },
    {
      "cell_type": "code",
      "metadata": {
        "id": "0zjn-HmBRKHI"
      },
      "source": [
        "model = Sequential()\n",
        "\n",
        "model.add(InputLayer(input_shape=[120,120,1]))\n",
        "model.add(Conv2D(filters=16, kernel_size=3, strides=1, padding='same', activation='relu'))\n",
        "model.add(AveragePooling2D(pool_size=2, padding='same'))\n",
        "model.add(Conv2D(filters=32, kernel_size=3, strides=1, padding='same', activation='relu'))\n",
        "model.add(AveragePooling2D(pool_size=2, padding='same'))\n",
        "model.add(Conv2D(filters=64, kernel_size=3, strides=1, padding='same', activation='relu'))\n",
        "model.add(AveragePooling2D(pool_size=2, padding='same'))\n",
        "model.add(BatchNormalization())\n",
        "model.add(Dropout(rate=0.25))\n",
        "\n",
        "model.add(GlobalAveragePooling2D())\n",
        "model.add(Flatten())\n",
        "\n",
        "# Fully Connected Layer\n",
        "model.add(Dense(512, activation='relu'))\n",
        "model.add(Dense(1, activation='sigmoid'))"
      ],
      "execution_count": null,
      "outputs": []
    },
    {
      "cell_type": "code",
      "metadata": {
        "colab": {
          "base_uri": "https://localhost:8080/"
        },
        "id": "_DM3oBjSRKEN",
        "outputId": "54b52859-ac34-48a4-c269-24faef1351c6"
      },
      "source": [
        "model.summary()"
      ],
      "execution_count": null,
      "outputs": [
        {
          "output_type": "stream",
          "name": "stdout",
          "text": [
            "Model: \"sequential_1\"\n",
            "_________________________________________________________________\n",
            "Layer (type)                 Output Shape              Param #   \n",
            "=================================================================\n",
            "conv2d_2 (Conv2D)            (None, 120, 120, 16)      160       \n",
            "_________________________________________________________________\n",
            "average_pooling2d_2 (Average (None, 60, 60, 16)        0         \n",
            "_________________________________________________________________\n",
            "conv2d_3 (Conv2D)            (None, 60, 60, 32)        4640      \n",
            "_________________________________________________________________\n",
            "average_pooling2d_3 (Average (None, 30, 30, 32)        0         \n",
            "_________________________________________________________________\n",
            "conv2d_4 (Conv2D)            (None, 30, 30, 64)        18496     \n",
            "_________________________________________________________________\n",
            "average_pooling2d_4 (Average (None, 15, 15, 64)        0         \n",
            "_________________________________________________________________\n",
            "batch_normalization_1 (Batch (None, 15, 15, 64)        256       \n",
            "_________________________________________________________________\n",
            "dropout_1 (Dropout)          (None, 15, 15, 64)        0         \n",
            "_________________________________________________________________\n",
            "global_average_pooling2d_1 ( (None, 64)                0         \n",
            "_________________________________________________________________\n",
            "flatten_1 (Flatten)          (None, 64)                0         \n",
            "_________________________________________________________________\n",
            "dense_2 (Dense)              (None, 512)               33280     \n",
            "_________________________________________________________________\n",
            "dense_3 (Dense)              (None, 1)                 513       \n",
            "=================================================================\n",
            "Total params: 57,345\n",
            "Trainable params: 57,217\n",
            "Non-trainable params: 128\n",
            "_________________________________________________________________\n"
          ]
        }
      ]
    },
    {
      "cell_type": "code",
      "metadata": {
        "id": "Fadf_qc6RKBf"
      },
      "source": [
        "from tensorflow.keras.optimizers import Adam\n",
        "\n",
        "# Compile model\n",
        "model.compile(loss='binary_crossentropy',\n",
        "              optimizer=Adam(lr=0.001),\n",
        "              metrics=['acc'])"
      ],
      "execution_count": null,
      "outputs": []
    },
    {
      "cell_type": "code",
      "metadata": {
        "colab": {
          "base_uri": "https://localhost:8080/"
        },
        "id": "Mr8fjcY-TXto",
        "outputId": "0c42889b-15fb-4c56-8cb7-94c206690298"
      },
      "source": [
        "H = model.fit(x_train,y_train, batch_size=32, epochs=100, validation_data=(x_test,y_test))"
      ],
      "execution_count": null,
      "outputs": [
        {
          "output_type": "stream",
          "name": "stdout",
          "text": [
            "Epoch 1/100\n",
            "22/22 [==============================] - 9s 371ms/step - loss: 0.6957 - acc: 0.5044 - val_loss: 0.6932 - val_acc: 0.5000\n",
            "Epoch 2/100\n",
            "22/22 [==============================] - 8s 359ms/step - loss: 0.6946 - acc: 0.5029 - val_loss: 0.6932 - val_acc: 0.4938\n",
            "Epoch 3/100\n",
            "22/22 [==============================] - 8s 358ms/step - loss: 0.6927 - acc: 0.5264 - val_loss: 0.6930 - val_acc: 0.5000\n",
            "Epoch 4/100\n",
            "22/22 [==============================] - 8s 360ms/step - loss: 0.6918 - acc: 0.5176 - val_loss: 0.6928 - val_acc: 0.5000\n",
            "Epoch 5/100\n",
            "22/22 [==============================] - 8s 359ms/step - loss: 0.6905 - acc: 0.5411 - val_loss: 0.6933 - val_acc: 0.5000\n",
            "Epoch 6/100\n",
            "22/22 [==============================] - 8s 360ms/step - loss: 0.6948 - acc: 0.5015 - val_loss: 0.6968 - val_acc: 0.5000\n",
            "Epoch 7/100\n",
            "22/22 [==============================] - 8s 361ms/step - loss: 0.6899 - acc: 0.5367 - val_loss: 0.6934 - val_acc: 0.5000\n",
            "Epoch 8/100\n",
            "22/22 [==============================] - 8s 362ms/step - loss: 0.6929 - acc: 0.5293 - val_loss: 0.6925 - val_acc: 0.5000\n",
            "Epoch 9/100\n",
            "22/22 [==============================] - 8s 359ms/step - loss: 0.6902 - acc: 0.5587 - val_loss: 0.6996 - val_acc: 0.5000\n",
            "Epoch 10/100\n",
            "22/22 [==============================] - 8s 357ms/step - loss: 0.6925 - acc: 0.5264 - val_loss: 0.6925 - val_acc: 0.5617\n",
            "Epoch 11/100\n",
            "22/22 [==============================] - 8s 360ms/step - loss: 0.6896 - acc: 0.5484 - val_loss: 0.6930 - val_acc: 0.5000\n",
            "Epoch 12/100\n",
            "22/22 [==============================] - 8s 357ms/step - loss: 0.6864 - acc: 0.5367 - val_loss: 0.6929 - val_acc: 0.5062\n",
            "Epoch 13/100\n",
            "22/22 [==============================] - 8s 359ms/step - loss: 0.6849 - acc: 0.5455 - val_loss: 0.6924 - val_acc: 0.5185\n",
            "Epoch 14/100\n",
            "22/22 [==============================] - 8s 359ms/step - loss: 0.6886 - acc: 0.5235 - val_loss: 0.6925 - val_acc: 0.5370\n",
            "Epoch 15/100\n",
            "22/22 [==============================] - 8s 358ms/step - loss: 0.6900 - acc: 0.5308 - val_loss: 0.6925 - val_acc: 0.5370\n",
            "Epoch 16/100\n",
            "22/22 [==============================] - 8s 357ms/step - loss: 0.6847 - acc: 0.5440 - val_loss: 0.6915 - val_acc: 0.5247\n",
            "Epoch 17/100\n",
            "22/22 [==============================] - 8s 360ms/step - loss: 0.6873 - acc: 0.5674 - val_loss: 0.6929 - val_acc: 0.5000\n",
            "Epoch 18/100\n",
            "22/22 [==============================] - 8s 361ms/step - loss: 0.6815 - acc: 0.5601 - val_loss: 0.6959 - val_acc: 0.5062\n",
            "Epoch 19/100\n",
            "22/22 [==============================] - 8s 356ms/step - loss: 0.6821 - acc: 0.5645 - val_loss: 0.6943 - val_acc: 0.5000\n",
            "Epoch 20/100\n",
            "22/22 [==============================] - 8s 355ms/step - loss: 0.6833 - acc: 0.5557 - val_loss: 0.6904 - val_acc: 0.5432\n",
            "Epoch 21/100\n",
            "22/22 [==============================] - 8s 359ms/step - loss: 0.6820 - acc: 0.5499 - val_loss: 0.7045 - val_acc: 0.4938\n",
            "Epoch 22/100\n",
            "22/22 [==============================] - 8s 359ms/step - loss: 0.6828 - acc: 0.5557 - val_loss: 0.6953 - val_acc: 0.5062\n",
            "Epoch 23/100\n",
            "22/22 [==============================] - 8s 357ms/step - loss: 0.6797 - acc: 0.5909 - val_loss: 0.7045 - val_acc: 0.5000\n",
            "Epoch 24/100\n",
            "22/22 [==============================] - 8s 360ms/step - loss: 0.6808 - acc: 0.5704 - val_loss: 0.7943 - val_acc: 0.5000\n",
            "Epoch 25/100\n",
            "22/22 [==============================] - 8s 358ms/step - loss: 0.6816 - acc: 0.5616 - val_loss: 0.7327 - val_acc: 0.5000\n",
            "Epoch 26/100\n",
            "22/22 [==============================] - 8s 359ms/step - loss: 0.6749 - acc: 0.5865 - val_loss: 0.7392 - val_acc: 0.5000\n",
            "Epoch 27/100\n",
            "22/22 [==============================] - 8s 359ms/step - loss: 0.6745 - acc: 0.5572 - val_loss: 0.7387 - val_acc: 0.5000\n",
            "Epoch 28/100\n",
            "22/22 [==============================] - 8s 360ms/step - loss: 0.6797 - acc: 0.5572 - val_loss: 0.6974 - val_acc: 0.5185\n",
            "Epoch 29/100\n",
            "22/22 [==============================] - 8s 361ms/step - loss: 0.6726 - acc: 0.5777 - val_loss: 0.7003 - val_acc: 0.5123\n",
            "Epoch 30/100\n",
            "22/22 [==============================] - 8s 359ms/step - loss: 0.6663 - acc: 0.5880 - val_loss: 0.7048 - val_acc: 0.5000\n",
            "Epoch 31/100\n",
            "22/22 [==============================] - 8s 359ms/step - loss: 0.6671 - acc: 0.5850 - val_loss: 0.7012 - val_acc: 0.5000\n",
            "Epoch 32/100\n",
            "22/22 [==============================] - 8s 359ms/step - loss: 0.6679 - acc: 0.5792 - val_loss: 0.9171 - val_acc: 0.5000\n",
            "Epoch 33/100\n",
            "22/22 [==============================] - 8s 357ms/step - loss: 0.6689 - acc: 0.5938 - val_loss: 0.7621 - val_acc: 0.4877\n",
            "Epoch 34/100\n",
            "22/22 [==============================] - 8s 358ms/step - loss: 0.6624 - acc: 0.5836 - val_loss: 0.7270 - val_acc: 0.4691\n",
            "Epoch 35/100\n",
            "22/22 [==============================] - 8s 359ms/step - loss: 0.6667 - acc: 0.5836 - val_loss: 0.7094 - val_acc: 0.4938\n",
            "Epoch 36/100\n",
            "22/22 [==============================] - 8s 359ms/step - loss: 0.6543 - acc: 0.6026 - val_loss: 0.7214 - val_acc: 0.5247\n",
            "Epoch 37/100\n",
            "22/22 [==============================] - 8s 358ms/step - loss: 0.6644 - acc: 0.6026 - val_loss: 0.7658 - val_acc: 0.5062\n",
            "Epoch 38/100\n",
            "22/22 [==============================] - 8s 360ms/step - loss: 0.6550 - acc: 0.6085 - val_loss: 0.7520 - val_acc: 0.5062\n",
            "Epoch 39/100\n",
            "22/22 [==============================] - 8s 362ms/step - loss: 0.6600 - acc: 0.5880 - val_loss: 0.7079 - val_acc: 0.4815\n",
            "Epoch 40/100\n",
            "22/22 [==============================] - 8s 360ms/step - loss: 0.6580 - acc: 0.6012 - val_loss: 1.5776 - val_acc: 0.5000\n",
            "Epoch 41/100\n",
            "22/22 [==============================] - 8s 359ms/step - loss: 0.6604 - acc: 0.5880 - val_loss: 0.7123 - val_acc: 0.4753\n",
            "Epoch 42/100\n",
            "22/22 [==============================] - 8s 357ms/step - loss: 0.6594 - acc: 0.5997 - val_loss: 0.7473 - val_acc: 0.4815\n",
            "Epoch 43/100\n",
            "22/22 [==============================] - 8s 359ms/step - loss: 0.6501 - acc: 0.6202 - val_loss: 0.7512 - val_acc: 0.5000\n",
            "Epoch 44/100\n",
            "22/22 [==============================] - 8s 358ms/step - loss: 0.6476 - acc: 0.6100 - val_loss: 0.8658 - val_acc: 0.5309\n",
            "Epoch 45/100\n",
            "22/22 [==============================] - 8s 361ms/step - loss: 0.6369 - acc: 0.6437 - val_loss: 0.7316 - val_acc: 0.5123\n",
            "Epoch 46/100\n",
            "22/22 [==============================] - 8s 361ms/step - loss: 0.6490 - acc: 0.6114 - val_loss: 0.7482 - val_acc: 0.4630\n",
            "Epoch 47/100\n",
            "22/22 [==============================] - 8s 360ms/step - loss: 0.6446 - acc: 0.6144 - val_loss: 1.0438 - val_acc: 0.4938\n",
            "Epoch 48/100\n",
            "22/22 [==============================] - 8s 361ms/step - loss: 0.6424 - acc: 0.6232 - val_loss: 1.0421 - val_acc: 0.5062\n",
            "Epoch 49/100\n",
            "22/22 [==============================] - 8s 361ms/step - loss: 0.6442 - acc: 0.6305 - val_loss: 0.8131 - val_acc: 0.4630\n",
            "Epoch 50/100\n",
            "22/22 [==============================] - 8s 359ms/step - loss: 0.6337 - acc: 0.6408 - val_loss: 0.7533 - val_acc: 0.5000\n",
            "Epoch 51/100\n",
            "22/22 [==============================] - 8s 363ms/step - loss: 0.6510 - acc: 0.6100 - val_loss: 0.7289 - val_acc: 0.4753\n",
            "Epoch 52/100\n",
            "22/22 [==============================] - 8s 364ms/step - loss: 0.6377 - acc: 0.6188 - val_loss: 0.7280 - val_acc: 0.4815\n",
            "Epoch 53/100\n",
            "22/22 [==============================] - 8s 360ms/step - loss: 0.6354 - acc: 0.6217 - val_loss: 0.7696 - val_acc: 0.5123\n",
            "Epoch 54/100\n",
            "22/22 [==============================] - 8s 366ms/step - loss: 0.6303 - acc: 0.6657 - val_loss: 0.9529 - val_acc: 0.4815\n",
            "Epoch 55/100\n",
            "22/22 [==============================] - 8s 368ms/step - loss: 0.6236 - acc: 0.6525 - val_loss: 0.7500 - val_acc: 0.4506\n",
            "Epoch 56/100\n",
            "22/22 [==============================] - 8s 365ms/step - loss: 0.6197 - acc: 0.6437 - val_loss: 0.7768 - val_acc: 0.5185\n",
            "Epoch 57/100\n",
            "22/22 [==============================] - 8s 365ms/step - loss: 0.6246 - acc: 0.6408 - val_loss: 0.7684 - val_acc: 0.4506\n",
            "Epoch 58/100\n",
            "22/22 [==============================] - 8s 364ms/step - loss: 0.6290 - acc: 0.6393 - val_loss: 0.8043 - val_acc: 0.4753\n",
            "Epoch 59/100\n",
            "22/22 [==============================] - 8s 364ms/step - loss: 0.6219 - acc: 0.6393 - val_loss: 0.7796 - val_acc: 0.5247\n",
            "Epoch 60/100\n",
            "22/22 [==============================] - 8s 360ms/step - loss: 0.6156 - acc: 0.6584 - val_loss: 0.7389 - val_acc: 0.5123\n",
            "Epoch 61/100\n",
            "22/22 [==============================] - 8s 362ms/step - loss: 0.6222 - acc: 0.6437 - val_loss: 0.8007 - val_acc: 0.4815\n",
            "Epoch 62/100\n",
            "22/22 [==============================] - 8s 359ms/step - loss: 0.6105 - acc: 0.6510 - val_loss: 0.7966 - val_acc: 0.5309\n",
            "Epoch 63/100\n",
            "22/22 [==============================] - 8s 357ms/step - loss: 0.6113 - acc: 0.6510 - val_loss: 0.7715 - val_acc: 0.4753\n",
            "Epoch 64/100\n",
            "22/22 [==============================] - 8s 358ms/step - loss: 0.6137 - acc: 0.6540 - val_loss: 0.8229 - val_acc: 0.4753\n",
            "Epoch 65/100\n",
            "22/22 [==============================] - 8s 355ms/step - loss: 0.5932 - acc: 0.6701 - val_loss: 0.8945 - val_acc: 0.5247\n",
            "Epoch 66/100\n",
            "22/22 [==============================] - 8s 355ms/step - loss: 0.5906 - acc: 0.6745 - val_loss: 0.9353 - val_acc: 0.5185\n",
            "Epoch 67/100\n",
            "22/22 [==============================] - 8s 357ms/step - loss: 0.5982 - acc: 0.6730 - val_loss: 0.8025 - val_acc: 0.4691\n",
            "Epoch 68/100\n",
            "22/22 [==============================] - 8s 359ms/step - loss: 0.6012 - acc: 0.6628 - val_loss: 0.8220 - val_acc: 0.4753\n",
            "Epoch 69/100\n",
            "22/22 [==============================] - 8s 356ms/step - loss: 0.5958 - acc: 0.6730 - val_loss: 0.7832 - val_acc: 0.4815\n",
            "Epoch 70/100\n",
            "22/22 [==============================] - 8s 355ms/step - loss: 0.5949 - acc: 0.6730 - val_loss: 0.8247 - val_acc: 0.4444\n",
            "Epoch 71/100\n",
            "22/22 [==============================] - 8s 356ms/step - loss: 0.5879 - acc: 0.6701 - val_loss: 0.8214 - val_acc: 0.5247\n",
            "Epoch 72/100\n",
            "22/22 [==============================] - 8s 356ms/step - loss: 0.5911 - acc: 0.6789 - val_loss: 1.3205 - val_acc: 0.5000\n",
            "Epoch 73/100\n",
            "22/22 [==============================] - 8s 355ms/step - loss: 0.5910 - acc: 0.6584 - val_loss: 0.9927 - val_acc: 0.4815\n",
            "Epoch 74/100\n",
            "22/22 [==============================] - 8s 354ms/step - loss: 0.5845 - acc: 0.6877 - val_loss: 1.0175 - val_acc: 0.4568\n",
            "Epoch 75/100\n",
            "22/22 [==============================] - 8s 356ms/step - loss: 0.5930 - acc: 0.6730 - val_loss: 0.7865 - val_acc: 0.4691\n",
            "Epoch 76/100\n",
            "22/22 [==============================] - 8s 357ms/step - loss: 0.5858 - acc: 0.6760 - val_loss: 1.0707 - val_acc: 0.5123\n",
            "Epoch 77/100\n",
            "22/22 [==============================] - 8s 357ms/step - loss: 0.5841 - acc: 0.6877 - val_loss: 0.7884 - val_acc: 0.4938\n",
            "Epoch 78/100\n",
            "22/22 [==============================] - 8s 356ms/step - loss: 0.5761 - acc: 0.6877 - val_loss: 0.9963 - val_acc: 0.5062\n",
            "Epoch 79/100\n",
            "22/22 [==============================] - 8s 359ms/step - loss: 0.5698 - acc: 0.6818 - val_loss: 0.8751 - val_acc: 0.4691\n",
            "Epoch 80/100\n",
            "22/22 [==============================] - 8s 358ms/step - loss: 0.5855 - acc: 0.6818 - val_loss: 0.8386 - val_acc: 0.4198\n",
            "Epoch 81/100\n",
            "22/22 [==============================] - 8s 358ms/step - loss: 0.5673 - acc: 0.6950 - val_loss: 0.8943 - val_acc: 0.4198\n",
            "Epoch 82/100\n",
            "22/22 [==============================] - 8s 356ms/step - loss: 0.5681 - acc: 0.6906 - val_loss: 0.8564 - val_acc: 0.5123\n",
            "Epoch 83/100\n",
            "22/22 [==============================] - 8s 359ms/step - loss: 0.5649 - acc: 0.7111 - val_loss: 0.8525 - val_acc: 0.4691\n",
            "Epoch 84/100\n",
            "22/22 [==============================] - 8s 357ms/step - loss: 0.5508 - acc: 0.7067 - val_loss: 0.9703 - val_acc: 0.4938\n",
            "Epoch 85/100\n",
            "22/22 [==============================] - 8s 360ms/step - loss: 0.5669 - acc: 0.6994 - val_loss: 0.8030 - val_acc: 0.4877\n",
            "Epoch 86/100\n",
            "22/22 [==============================] - 8s 357ms/step - loss: 0.5521 - acc: 0.6965 - val_loss: 1.0678 - val_acc: 0.4691\n",
            "Epoch 87/100\n",
            "22/22 [==============================] - 8s 360ms/step - loss: 0.5554 - acc: 0.7067 - val_loss: 0.8869 - val_acc: 0.5123\n",
            "Epoch 88/100\n",
            "22/22 [==============================] - 8s 359ms/step - loss: 0.5422 - acc: 0.7229 - val_loss: 0.8764 - val_acc: 0.5000\n",
            "Epoch 89/100\n",
            "22/22 [==============================] - 8s 357ms/step - loss: 0.5574 - acc: 0.7067 - val_loss: 0.9033 - val_acc: 0.4938\n",
            "Epoch 90/100\n",
            "22/22 [==============================] - 8s 358ms/step - loss: 0.5409 - acc: 0.7141 - val_loss: 0.9813 - val_acc: 0.5309\n",
            "Epoch 91/100\n",
            "22/22 [==============================] - 8s 358ms/step - loss: 0.5441 - acc: 0.7023 - val_loss: 0.9618 - val_acc: 0.4691\n",
            "Epoch 92/100\n",
            "22/22 [==============================] - 8s 358ms/step - loss: 0.5440 - acc: 0.7243 - val_loss: 0.9119 - val_acc: 0.4506\n",
            "Epoch 93/100\n",
            "22/22 [==============================] - 8s 362ms/step - loss: 0.5268 - acc: 0.7199 - val_loss: 0.8817 - val_acc: 0.4506\n",
            "Epoch 94/100\n",
            "22/22 [==============================] - 8s 358ms/step - loss: 0.5245 - acc: 0.7390 - val_loss: 1.0506 - val_acc: 0.5062\n",
            "Epoch 95/100\n",
            "22/22 [==============================] - 8s 357ms/step - loss: 0.5217 - acc: 0.7155 - val_loss: 0.9418 - val_acc: 0.4815\n",
            "Epoch 96/100\n",
            "22/22 [==============================] - 8s 358ms/step - loss: 0.5466 - acc: 0.6965 - val_loss: 0.9684 - val_acc: 0.4506\n",
            "Epoch 97/100\n",
            "22/22 [==============================] - 8s 361ms/step - loss: 0.5533 - acc: 0.6877 - val_loss: 0.9513 - val_acc: 0.4753\n",
            "Epoch 98/100\n",
            "22/22 [==============================] - 8s 362ms/step - loss: 0.5248 - acc: 0.7273 - val_loss: 0.9312 - val_acc: 0.5185\n",
            "Epoch 99/100\n",
            "22/22 [==============================] - 8s 360ms/step - loss: 0.5522 - acc: 0.7009 - val_loss: 0.9561 - val_acc: 0.5062\n",
            "Epoch 100/100\n",
            "22/22 [==============================] - 8s 358ms/step - loss: 0.5358 - acc: 0.7155 - val_loss: 0.8864 - val_acc: 0.5123\n"
          ]
        }
      ]
    },
    {
      "cell_type": "code",
      "metadata": {
        "id": "1Nv1P204TXrN"
      },
      "source": [
        "%matplotlib inline\n",
        "\n",
        "import matplotlib.pyplot as plt\n",
        "import matplotlib.image as mpimg"
      ],
      "execution_count": null,
      "outputs": []
    },
    {
      "cell_type": "code",
      "metadata": {
        "colab": {
          "base_uri": "https://localhost:8080/",
          "height": 299
        },
        "id": "I4s8Sf0sTXos",
        "outputId": "566e7716-76f4-44ad-ab1d-180df8ced4c8"
      },
      "source": [
        "plt.style.use(\"ggplot\")\n",
        "plt.figure()\n",
        "plt.plot(np.arange(0, 100), H.history[\"loss\"], label=\"train_loss\")\n",
        "plt.plot(np.arange(0, 100), H.history[\"val_loss\"], label=\"val_loss\")\n",
        "plt.title(\"Loss Plot\")\n",
        "plt.xlabel(\"Epoch #\")\n",
        "plt.ylabel(\"Loss\")\n",
        "plt.legend()\n",
        "plt.show()"
      ],
      "execution_count": null,
      "outputs": [
        {
          "output_type": "display_data",
          "data": {
            "image/png": "[encoded data removed]",
            "text/plain": [
              "<Figure size 432x288 with 1 Axes>"
            ]
          },
          "metadata": {}
        }
      ]
    },
    {
      "cell_type": "code",
      "metadata": {
        "colab": {
          "base_uri": "https://localhost:8080/",
          "height": 299
        },
        "id": "w4mLbUlkTXmR",
        "outputId": "a941e8b4-34de-42ac-80b2-73444de81977"
      },
      "source": [
        "plt.style.use(\"ggplot\")\n",
        "plt.figure()\n",
        "plt.plot(np.arange(0, 100), H.history[\"acc\"], label=\"train_acc\")\n",
        "plt.plot(np.arange(0, 100), H.history[\"val_acc\"], label=\"val_acc\")\n",
        "plt.title(\"Accuracy Plot\")\n",
        "plt.xlabel(\"Epoch #\")\n",
        "plt.ylabel(\"Acc\")\n",
        "plt.legend()\n",
        "plt.show()"
      ],
      "execution_count": null,
      "outputs": [
        {
          "output_type": "display_data",
          "data": {
            "image/png": "[encoded data removed]",
            "text/plain": [
              "<Figure size 432x288 with 1 Axes>"
            ]
          },
          "metadata": {}
        }
      ]
    },
    {
      "cell_type": "code",
      "metadata": {
        "colab": {
          "base_uri": "https://localhost:8080/"
        },
        "id": "TtGHJck3Wkn9",
        "outputId": "07c9630d-d091-4d91-a00e-675b127ec199"
      },
      "source": [
        "from sklearn.metrics import classification_report\n",
        "\n",
        "pred = model.predict(x_test)\n",
        "labels = (pred > 0.5).astype(np.int)\n",
        "\n",
        "print(classification_report(y_test, labels))"
      ],
      "execution_count": null,
      "outputs": [
        {
          "output_type": "stream",
          "name": "stdout",
          "text": [
            "              precision    recall  f1-score   support\n",
            "\n",
            "         0.0       0.51      0.54      0.53        81\n",
            "         1.0       0.51      0.48      0.50        81\n",
            "\n",
            "    accuracy                           0.51       162\n",
            "   macro avg       0.51      0.51      0.51       162\n",
            "weighted avg       0.51      0.51      0.51       162\n",
            "\n"
          ]
        }
      ]
    },
    {
      "cell_type": "code",
      "metadata": {
        "colab": {
          "base_uri": "https://localhost:8080/"
        },
        "id": "WuFlb4w5WklM",
        "outputId": "0bfba592-b74f-4f08-fa44-5a858ff68de2"
      },
      "source": [
        "from keras.models import model_from_json\n",
        "# serialize model to JSON\n",
        "model_json = model.to_json()\n",
        "with open(\"model4.json\", \"w\") as json_file:\n",
        "    json_file.write(model_json)\n",
        "# serialize weights to HDF5\n",
        "model.save_weights(\"model4.h5\")\n",
        "print(\"Saved model to disk\")"
      ],
      "execution_count": 18,
      "outputs": [
        {
          "output_type": "stream",
          "name": "stdout",
          "text": [
            "Saved model to disk\n"
          ]
        }
      ]
    }
  ]
}